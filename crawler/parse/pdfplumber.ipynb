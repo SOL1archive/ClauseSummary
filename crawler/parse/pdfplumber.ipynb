{
  "cells": [
    {
      "cell_type": "markdown",
      "metadata": {
        "colab_type": "text",
        "id": "view-in-github"
      },
      "source": [
        "<a href=\"https://colab.research.google.com/github/SOL1archive/ClauseSummary/blob/main/pdfplumber.ipynb\" target=\"_parent\"><img src=\"https://colab.research.google.com/assets/colab-badge.svg\" alt=\"Open In Colab\"/></a>"
      ]
    },
    {
      "cell_type": "code",
      "execution_count": 1,
      "metadata": {
        "colab": {
          "base_uri": "https://localhost:8080/"
        },
        "id": "dlH-61c0Sal_",
        "outputId": "b28d3ecc-7966-4ef9-9c55-e1723fa9942c"
      },
      "outputs": [
        {
          "name": "stdout",
          "output_type": "stream",
          "text": [
            "Drive already mounted at /content/drive; to attempt to forcibly remount, call drive.mount(\"/content/drive\", force_remount=True).\n"
          ]
        }
      ],
      "source": [
        "import os, sys\n",
        "from google.colab import drive\n",
        "drive.mount('/content/drive')"
      ]
    },
    {
      "cell_type": "code",
      "execution_count": 2,
      "metadata": {
        "id": "pOlFoee3ShLJ"
      },
      "outputs": [],
      "source": [
        "my_path = '/content/notebooks'\n",
        "os.symlink('/content/drive/My Drive/Colab Notebooks/my_env', my_path)\n",
        "sys.path.insert(0, my_path)"
      ]
    },
    {
      "cell_type": "code",
      "execution_count": 3,
      "metadata": {
        "colab": {
          "base_uri": "https://localhost:8080/",
          "height": 560
        },
        "id": "1LLHx7v9SsSg",
        "outputId": "88de1f49-ad93-4074-c317-3092d2444fd4"
      },
      "outputs": [
        {
          "name": "stdout",
          "output_type": "stream",
          "text": [
            "Looking in indexes: https://pypi.org/simple, https://us-python.pkg.dev/colab-wheels/public/simple/\n",
            "Collecting pdfplumber\n",
            "  Downloading pdfplumber-0.8.0-py3-none-any.whl (43 kB)\n",
            "\u001b[2K     \u001b[90m━━━━━━━━━━━━━━━━━━━━━━━━━━━━━━━━━━━━━━━━\u001b[0m \u001b[32m43.7/43.7 KB\u001b[0m \u001b[31m3.9 MB/s\u001b[0m eta \u001b[36m0:00:00\u001b[0m\n",
            "\u001b[?25hCollecting Wand>=0.6.10\n",
            "  Downloading Wand-0.6.11-py2.py3-none-any.whl (143 kB)\n",
            "\u001b[2K     \u001b[90m━━━━━━━━━━━━━━━━━━━━━━━━━━━━━━━━━━━━━━━\u001b[0m \u001b[32m143.6/143.6 KB\u001b[0m \u001b[31m9.7 MB/s\u001b[0m eta \u001b[36m0:00:00\u001b[0m\n",
            "\u001b[?25hCollecting Pillow>=9.1\n",
            "  Downloading Pillow-9.5.0-cp39-cp39-manylinux_2_28_x86_64.whl (3.4 MB)\n",
            "\u001b[2K     \u001b[90m━━━━━━━━━━━━━━━━━━━━━━━━━━━━━━━━━━━━━━━━\u001b[0m \u001b[32m3.4/3.4 MB\u001b[0m \u001b[31m68.9 MB/s\u001b[0m eta \u001b[36m0:00:00\u001b[0m\n",
            "\u001b[?25hCollecting pdfminer.six==20221105\n",
            "  Downloading pdfminer.six-20221105-py3-none-any.whl (5.6 MB)\n",
            "\u001b[2K     \u001b[90m━━━━━━━━━━━━━━━━━━━━━━━━━━━━━━━━━━━━━━━━\u001b[0m \u001b[32m5.6/5.6 MB\u001b[0m \u001b[31m64.7 MB/s\u001b[0m eta \u001b[36m0:00:00\u001b[0m\n",
            "\u001b[?25hRequirement already satisfied: charset-normalizer>=2.0.0 in /usr/local/lib/python3.9/dist-packages (from pdfminer.six==20221105->pdfplumber) (2.0.12)\n",
            "Requirement already satisfied: cryptography>=36.0.0 in /usr/local/lib/python3.9/dist-packages (from pdfminer.six==20221105->pdfplumber) (40.0.1)\n",
            "Requirement already satisfied: cffi>=1.12 in /usr/local/lib/python3.9/dist-packages (from cryptography>=36.0.0->pdfminer.six==20221105->pdfplumber) (1.15.1)\n",
            "Requirement already satisfied: pycparser in /usr/local/lib/python3.9/dist-packages (from cffi>=1.12->cryptography>=36.0.0->pdfminer.six==20221105->pdfplumber) (2.21)\n",
            "Installing collected packages: Wand, Pillow, pdfminer.six, pdfplumber\n",
            "  Attempting uninstall: Pillow\n",
            "    Found existing installation: Pillow 8.4.0\n",
            "    Uninstalling Pillow-8.4.0:\n",
            "      Successfully uninstalled Pillow-8.4.0\n",
            "Successfully installed Pillow-9.5.0 Wand-0.6.11 pdfminer.six-20221105 pdfplumber-0.8.0\n"
          ]
        },
        {
          "data": {
            "application/vnd.colab-display-data+json": {
              "pip_warning": {
                "packages": [
                  "PIL"
                ]
              }
            }
          },
          "metadata": {},
          "output_type": "display_data"
        }
      ],
      "source": [
        "!pip install pdfplumber"
      ]
    },
    {
      "cell_type": "code",
      "execution_count": 4,
      "metadata": {
        "id": "k0O2kd5LS3HO"
      },
      "outputs": [],
      "source": [
        "import pdfplumber"
      ]
    },
    {
      "cell_type": "code",
      "execution_count": 45,
      "metadata": {
        "colab": {
          "base_uri": "https://localhost:8080/"
        },
        "id": "69Tvoc6ITT1W",
        "outputId": "610a605c-ba09-4941-e6c4-fd812ee85b59"
      },
      "outputs": [
        {
          "name": "stdout",
          "output_type": "stream",
          "text": [
            "험금\n",
            "2. 보험기간 중 상해로 장해분류표(<별표 1> 참조)에서 정한 각 장해지급률에 해당하는 장해상\n",
            "태가 되었을 때: 후유장해보험금\n",
            "② 제1항의 국내여행중이라 함은 아래의 경우를 말합니다.\n",
            "1. 국내거주자가 여행을 목적으로 주거지를 출발하여 여행을 마치고 주거지에 도착할 때까지\n",
            "2. 국외거주자가 여행을 목적으로 국내의 공항이나 부두에 도착하여 여행을 마치고 출국을\n",
            "위해 항공기나 선박에 탑승하기 직전까지\n",
            "제4조(보험금 지급에 관한 세부규정) ① 제3조(보험금의 지급사유) 제1항 제1호 ‘사망’에는 보험\n",
            "기간에 다음 어느 하나의 사유가 발생한 경우를 포함합니다.\n",
            "1. 실종선고를 받은 경우: 법원에서 인정한 실종기간이 끝나는 때에 사망한 것으로 봅니다.\n",
            "2. 관공서에서 수해, 화재나 그 밖의 재난을 조사하고 사망한 것으로 통보하는 경우: 가족관\n",
            "계등록부에 기재된 사망연월일을 기준으로 합니다.\n",
            "②「호스피스·완화의료 및 임종과정에 있는 환자의 연명의료 결정에 관한 법률」에 따른 연명\n",
            "의료중단등결정 및 그 이행으로 피보험자가 사망하는 경우 연명의료중단등결정 및 그 이행은\n",
            "제3조(보험금의 지급사유) 제1항 제1호 ‘사망’의 원인 및 ‘사망보험금’ 지급에 영향을 미치지 않\n",
            "습니다.\n",
            "③ 제3조(보험금의 지급사유) 제1항 제2호에서 장해지급률이 상해 발생일부터 180일 이내에 확정\n",
            "되지 않는 경우에는 상해 발생일부터 180일이 되는 날의 의사 진단에 기초하여 고정될 것으로 인\n",
            "정되는 상태를 장해지급률로 결정합니다. 다만, 장해분류표(<별표 1> 참조)에 장해판정시기를 별\n",
            "도로 정한 경우에는 그에 따릅니다.\n",
            "④ 제3항에 따라 장해지급률이 결정되었으나 그 이후 보장받을 수 있는 기간(계약의 효력이 없어\n",
            "진 경우에는 상해 발생일부터 1년 이내)에 장해상태가 더 악화된 때에는 그 악화된 장해상태를\n",
            "기준으로 장해지급률을 결정합니다.\n",
            "⑤ 장해분류표에 해당되지 않는 후유장해는 피보험자의 직업, 연령, 신분 또는 성별 등에 관계없\n",
            "이 신체의 장해정도에 따라 장해분류표의 구분에 준하여 지급액을 결정합니다. 다만, 장해분류표\n",
            "의 각 장해분류별 최저 지급률 장해정도에 이르지 않는 후유장해에 대하여는 후유장해보험금을\n",
            "지급하지 않습니다.\n",
            "⑥ 보험수익자와 회사가 제3조(보험금의 지급사유)의 보험금 지급사유에 대해 합의하지 못할 때\n",
            "는 보험수익자와 회사가 함께 제3자를 정하고 그 제3자의 의견에 따를 수 있습니다. 제3자는 의\n",
            "료법 제3조(의료기관)에 규정한 종합병원 소속 전문의 중에 정하며, 보험금 지급사유 판정에 드는\n",
            "의료비용은 회사가 전액 부담합니다.\n",
            "⑦ 같은 상해로 두 가지 이상의 후유장해가 생긴 경우에는 후유장해 지급률을 더하여 지급합니\n",
            "다. 다만, 장해분류표의 각 신체부위별 판정기준에 별도로 정한 경우에는 그 기준에 따릅니다.\n",
            "⑧ 다른 상해로 인하여 후유장해가 2회 이상 발생하였을 경우에는 그 때마다 이에 해당하는 후유\n",
            "장해지급률을 결정합니다. 그러나 그 후유장해가 이미 후유장해보험금을 지급받은 동일한 부위에\n",
            "가중된 때에는 최종 장해상태에 해당하는 후유장해보험금에서 이미 지급받은 후유장해보험금을\n",
            "차감하여 지급합니다. 다만, 장해분류표의 각 신체부위별 판정기준에서 별도로 정한 경우에는 그\n",
            "기준에 따릅니다.\n",
            "⑨ 이미 이 계약에서 후유장해보험금 지급사유에 해당되지 않았거나(보장개시 이전의 원인에 의\n",
            "하거나 또는 그 이전에 발생한 후유장해를 포함합니다), 후유장해보험금이 지급되지 않았던 피보\n",
            "- 3 -\n"
          ]
        }
      ],
      "source": [
        "with pdfplumber.open(\"drive/MyDrive/3.NH국내여행보험(약관)(20230101).pdf\") as pdf:\n",
        "  pages = pdf.pages\n",
        "  page = [page.extract_text() for page in pages]\n",
        "  \n",
        "print(page[3])"
      ]
    },
    {
      "cell_type": "code",
      "execution_count": 46,
      "metadata": {
        "id": "RN6UKmdUUl_x"
      },
      "outputs": [],
      "source": [
        "# example dataset\n",
        "contents = []\n",
        "contents.append([page[i] for i in range(1, 18)]) \n",
        "contents.append([page[j] for j in range(18, 20)]) "
      ]
    },
    {
      "cell_type": "code",
      "execution_count": 106,
      "metadata": {
        "colab": {
          "base_uri": "https://localhost:8080/"
        },
        "id": "HZjMwYGT2F1Z",
        "outputId": "b8c68285-793c-4a30-ecd0-417f0dd0cfdd"
      },
      "outputs": [
        {
          "name": "stdout",
          "output_type": "stream",
          "text": [
            "['NH국내여행보험 특별약관\\n국내여행중 질병사망 및 질병 80%이상 후유장해 특별약관\\n제1조(보험금의 지급사유) ① 회사는 피보험자에게 보통약관 제3조(보험금의 지급사유)의 여행\\n도중에 다음 중 어느 하나의 사유가 발생할 경우에는 보험수익자에게 약정한 보험금을 지급합니\\n다.\\n1. 보험기간 중 질병으로 인하여 사망한 경우 : 사망보험금(보험증권에 기재된 보험가입금액)\\n2. 보험기간 중 진단확정된 질병으로 장해분류표(<별표 1>참조. 이하 같습니다)에서 정한 장해\\n지급률이 80% 이상에 해당하는 장해상태가 되었을 때 : 후유장해보험금(보험증권에 기재된\\n보험가입금액)\\n② 제1항에도 불구하고 여행 도중에 발생한 질병을 직접원인으로 하여 보험기간 마지막 날로부\\n터 30일 이내에 사망하거나 또는 80% 이상에 해당하는 장해상태가 되었을 때에도 동일하게 보\\n상하여 드립니다.\\n제2조(보험금 지급에 관한 세부규정) ①「호스피스·완화의료 및 임종과정에 있는 환자의 연명\\n의료 결정에 관한 법률」에 따른 연명의료중단등결정 및 그 이행으로 피보험자가 사망하는 경우\\n연명의료중단등결정 및 그 이행은 제1조(보험금의 지급사유) 제1항 제1호 ‘사망’의 원인 및 ‘사망\\n보험금’ 지급에 영향을 미치지 않습니다.\\n② 제1조(보험금의 지급사유) 제1항 제2호에도 불구하고 영구히 고정된 증상은 아니지만 치료종\\n결 후 한시적으로 나타나는 장해에 대하여는 그 기간이 5년 이상인 때에는 해당 장해 지급률의\\n20%를 후유장해 지급률로 하여 제1조(보험금의 지급사유) 제1항 제2호를 적용합니다.\\n③ 제1조(보험금의 지급사유) 제1항 제2호에서 장해지급률이 질병의 진단 확정일부터 180일 이내\\n에 확정되지 않는 경우에는 질병의 진단확정일부터 180일이 되는 날의 의사 진단에 기초하여 고\\n정될 것으로 인정되는 상태를 장해지급률로 결정합니다. 다만, 장해분류표에 장해판정시기를 별\\n도로 정한 경우에는 그에 따릅니다.\\n④ 제3항에 따라 장해지급률이 결정되었으나 그 이후 보장받을 수 있는 기간(계약의 효력이 없어\\n진 경우에는 질병의 진단확정일부터 1년 이내)에 장해상태가 더 악화된 때에는 그 악화된 장해상\\n태를 기준으로 장해지급률을 결정합니다.\\n⑤ 장해분류표에 해당되지 않는 후유장해는 피보험자의 직업, 연령, 신분 또는 성별 등에 관계없\\n이 신체의 장해정도에 따라 장해분류표의 구분에 준하여 지급액을 결정합니다. 다만, 장해분류표\\n의 각 장해분류별 최저 지급률 장해정도에 이르지 않는 후유장해에 대하여는 후유장해보험금을\\n지급하지 않습니다.\\n⑥ 보험수익자와 회사가 제1조(보험금의 지급사유)의 보험금 지급사유에 대해 합의하지 못할 때\\n는 보험수익자와 회사가 함께 제3자를 정하고 그 제3자의 의견에 따를 수 있습니다. 제3자는 의\\n료법 제3조(의료기관)에 규정한 종합병원 소속 전문의 중에 정하며, 보험금 지급사유 판정에 드\\n는 의료비용은 회사가 전액 부담합니다.\\n⑦ 같은 질병으로 두 가지 이상의 후유장해가 생긴 경우에는 후유장해 지급률을 더하여 지급합\\n니다. 다만, 장해분류표의 각 신체부위별 판정기준에 별도로 정한 경우에는 그 기준에 따릅니다.\\n⑧ 다른 질병으로 인하여 후유장해가 2회 이상 발생하였을 경우에는 그 때마다 이에 해당하는\\n- 18 -', '후유장해지급률을 결정합니다. 그러나 그 후유장해가 이미 후유장해보험금을 지급받은 동일한 부\\n위에 가중된 때에는 최종 장해상태에 해당하는 후유장해보험금에서 이미 지급받은 후유장해보험\\n금을 차감하여 지급합니다. 다만, 장해분류표의 각 신체부위별 판정기준에서 별도로 정한 경우에\\n는 그 기준에 따릅니다.\\n⑨ 이미 이 계약에서 후유장해보험금 지급사유에 해당되지 않았거나(보장개시 이전의 원인에 의\\n하거나 또는 그 이전에 발생한 후유장해를 포함합니다), 후유장해보험금이 지급되지 않았던 피보\\n험자에게 그 신체의 동일 부위에 또다시 제8항에 규정하는 후유장해상태가 발생하였을 경우에는\\n직전까지의 후유장해에 대한 후유장해보험금이 지급된 것으로 보고 최종 후유장해 상태에 해당\\n되는 후유장해보험금에서 이를 차감하여 지급합니다.\\n제3조(준용규정) 이 특별약관에 정하지 않은 사항은 보통약관을 따릅니다.\\n- 19 -']\n",
            "['후유장해지급률을 결정합니다. 그러나 그 후유장해가 이미 후유장해보험금을 지급받은 동일한 부\\n위에 가중된 때에는 최종 장해상태에 해당하는 후유장해보험금에서 이미 지급받은 후유장해보험\\n금을 차감하여 지급합니다. 다만, 장해분류표의 각 신체부위별 판정기준에서 별도로 정한 경우에\\n는 그 기준에 따릅니다.\\n⑨ 이미 이 계약에서 후유장해보험금 지급사유에 해당되지 않았거나(보장개시 이전의 원인에 의\\n하거나 또는 그 이전에 발생한 후유장해를 포함합니다), 후유장해보험금이 지급되지 않았던 피보\\n험자에게 그 신체의 동일 부위에 또다시 제8항에 규정하는 후유장해상태가 발생하였을 경우에는\\n직전까지의 후유장해에 대한 후유장해보험금이 지급된 것으로 보고 최종 후유장해 상태에 해당\\n되는 후유장해보험금에서 이를 차감하여 지급합니다.\\n제3조(준용규정) 이 특별약관에 정하지 않은 사항은 보통약관을 따릅니다.\\n- 19 -']\n"
          ]
        }
      ],
      "source": [
        "import copy\n",
        "import re\n",
        "contents_copy = copy.deepcopy(contents)\n",
        "\n",
        "clause = []\n",
        "for content_copy in contents_copy:\n",
        "  del content_copy[0] #delete contents table\n",
        "\n",
        "  text = \"\"\n",
        "  for page in content_copy: #merge all page of a chapter\n",
        "    text += page\n",
        "    text = text[text.find(\"제1조\"):]\n",
        "\n",
        "  sentences = text.splitlines()\n",
        "\n",
        "  articles = []\n",
        "  for i in range(len(sentences)):\n",
        "    if re.search(\"^제.{1,}조\", sentences[i]):\n",
        "      articles.append(sentences[i])\n",
        "\n",
        "    else:\n",
        "      articles[len(articles) - 1] += sentences[i]\n",
        "\n",
        "  clause.append(articles)"
      ]
    },
    {
      "cell_type": "code",
      "execution_count": 95,
      "metadata": {
        "colab": {
          "base_uri": "https://localhost:8080/"
        },
        "id": "m2MNSWqN2Stk",
        "outputId": "3712d3ed-19ab-42cb-fa64-010a9a9cf327"
      },
      "outputs": [
        {
          "name": "stdout",
          "output_type": "stream",
          "text": [
            "제1조(목적) 이 보험계약(이하 ‘계약’이라 합니다)은 보험계약자(이하 ‘계약자’라 합니다)와 보험회\n",
            "제2조(용어의 정의) 이 계약에서 사용되는 용어의 정의는, 이 계약의 다른 조항에서 달리 정의되\n",
            "제3조(보험금의 지급사유) ① 회사는 피보험자에게 보험증권에 기재된 국내여행(이하 “여행”이라\n",
            "제4조(보험금 지급에 관한 세부규정) ① 제3조(보험금의 지급사유) 제1항 제1호 ‘사망’에는 보험\n",
            "제3조(보험금의 지급사유) 제1항 제1호 ‘사망’의 원인 및 ‘사망보험금’ 지급에 영향을 미치지 않\n",
            "제5조(보험금을 지급하지 않는 사유) ① 회사는 다음 중 어느 한가지로 보험금 지급사유가 발생한 때에는\n",
            "제6조(보험금 지급사유의 통지) 계약자 또는 피보험자나 보험수익자는 제3조(보험금의 지급사유)에\n",
            "제7조(보험금의 청구) ① 보험수익자는 다음의 서류를 제출하고 보험금을 청구하여야 합니다.\n",
            "제9조(보험금 받는 방법의 변경) ① 계약자(보험금 지급사유 발생 후에는 보험수익자)는 회사의\n",
            "제10조(주소변경통지) ① 계약자(보험수익자가 계약자와 다른 경우 보험수익자를 포함합니다)는 주소 또\n",
            "제11조(보험수익자의 지정) 보험수익자를 지정하지 않은 때에는 보험수익자를 제3조(보험금의 지\n",
            "제12조(대표자의 지정) ① 계약자 또는 보험수익자가 2명 이상인 경우에는 각 대표자를 1명 지정\n",
            "제13조(계약 전 알릴 의무) 계약자 또는 피보험자는 청약할 때(진단계약의 경우에는 건강진단할\n",
            "제15조(알릴 의무 위반의 효과) ① 회사는 아래와 같은 사실이 있을 경우에는 보험금 지급사유의\n",
            "제16조(사기에 의한 계약) 계약자 또는 피보험자가 대리진단, 약물사용을 수단으로 진단절차를 통\n",
            "제17조(보험계약의 성립) ① 계약은 계약자의 청약과 회사의 승낙으로 이루어집니다.\n",
            "제19조(약관교부 및 설명의무 등) ① 회사는 계약자가 청약할 때에 계약자에게 약관의 중요한 내\n",
            "제20조(계약의 무효) 다음 중 한 가지에 해당되는 경우에는 계약을 무효로 하며 이미 납입한 보\n",
            "제21조(계약내용의 변경 등) ① 계약자는 회사의 승낙을 얻어 다음의 사항을 변경할 수 있습니\n",
            "제22조(보험나이 등) ① 이 약관에서의 피보험자의 나이는 보험나이를 기준으로 합니다. 다만, 제\n",
            "제23조(계약의 소멸) 피보험자의 사망으로 인하여 이 약관에서 규정하는 보험금 지급사유가 더\n",
            "제24조(제1회 보험료 및 회사의 보장개시) ① 회사는 계약의 청약을 승낙하고 제1회 보험료를 받\n",
            "제25조(제2회 이후 보험료의 납입) 계약자는 제2회 이후의 보험료를 납입기일까지 납입하여야 하\n",
            "제26조(보험료의 납입이 연체되는 경우 납입최고(독촉)와 계약의 해지) ① 계약자가 제2회 이후\n",
            "제32조(보험료의 환급)에 따른 보험료를 계약자에게 지급합니다.\n",
            "제27조(보험료의 납입연체로 인한 해지계약의 부활(효력회복)) ① 제26조(보험료 납입이 연체되는\n",
            "제13조(계약전 알릴 의무)를 위반한 경우에는 제15조(알릴 의무 위반의 효과)가 적용됩니다.\n",
            "제28조(강제집행 등으로 인한 해지계약의 특별부활(효력회복)) ① 타인을 위한 계약의 경우 제32\n",
            "제29조(계약자의 임의해지 및 피보험자의 서면동의 철회) ① 계약자는 계약이 소멸하기 전에는\n",
            "제32조(보험료의 환급)에 따른 보험료를 계약자에게 지급합니다.\n",
            "제29조의2(위법계약의 해지) ① 계약자는 ｢금융소비자보호에 관한 법률｣ 제47조 및 관련규정이\n",
            "제30조(중대사유로 인한 해지) ① 회사는 아래와 같은 사실이 있을 경우에는 안 날부터 1개월 이\n",
            "제31조(회사의 파산선고와 해지) ① 회사가 파산의 선고를 받은 때에는 계약자는 계약을 해지할\n",
            "제32조(보험료의 환급) ① 이 계약이 무효, 효력상실, 해지 또는 소멸된 때에는 다음과 같이 보험\n",
            "제 7 관 분쟁의 조정 등\n",
            "제33조(분쟁의 조정) ① 계약에 관하여 분쟁이 있는 경우 분쟁 당사자 또는 기타 이해관계인과\n",
            "제34조(관할법원) 이 계약에 관한 소송 및 민사조정은 계약자의 주소지를 관할하는 법원으로 합\n",
            "제35조(소멸시효) 보험금청구권, 보험료 또는 환급금 반환청구권은 3년간 행사하지 않으면 소멸\n",
            "제36조(약관의 해석) ① 회사는 신의성실의 원칙에 따라 공정하게 약관을 해석하여야 하며 계약\n",
            "제38조(회사의 손해배상책임) ① 회사는 계약과 관련하여 임직원, 보험설계사 및 대리점의 책임\n",
            "제39조(개인정보보호) ① 회사는 이 계약과 관련된 개인정보를 이 계약의 체결, 유지, 보험금 지급\n",
            "제40조(준거법) 이 계약은 대한민국 법에 따라 규율되고 해석되며, 약관에서 정하지 않은 사항은\n",
            "제41조(예금보험에 의한 지급보장) 회사가 파산 등으로 인하여 보험금 등을 지급하지 못할 경우\n"
          ]
        }
      ],
      "source": [
        "for c in clause[0]:\n",
        "  print(c)\n"
      ]
    },
    {
      "cell_type": "code",
      "execution_count": null,
      "metadata": {
        "id": "SJHCJJ0ZjLyR"
      },
      "outputs": [],
      "source": []
    }
  ],
  "metadata": {
    "colab": {
      "authorship_tag": "ABX9TyPhAm5ckyXSwaMOu60R9Al9",
      "include_colab_link": true,
      "mount_file_id": "1rrfU0mtyrRUjmzxGw39nD2WmBdITlU2A",
      "provenance": []
    },
    "kernelspec": {
      "display_name": "Python 3",
      "name": "python3"
    },
    "language_info": {
      "name": "python"
    }
  },
  "nbformat": 4,
  "nbformat_minor": 0
}
