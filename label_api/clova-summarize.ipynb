{
 "cells": [
  {
   "cell_type": "code",
   "execution_count": 1,
   "metadata": {},
   "outputs": [],
   "source": [
    "import pandas as pd\n",
    "from tqdm import tqdm\n",
    "from clova_summary import ClovaSummary"
   ]
  },
  {
   "cell_type": "code",
   "execution_count": 2,
   "metadata": {},
   "outputs": [
    {
     "data": {
      "text/html": [
       "<div>\n",
       "<style scoped>\n",
       "    .dataframe tbody tr th:only-of-type {\n",
       "        vertical-align: middle;\n",
       "    }\n",
       "\n",
       "    .dataframe tbody tr th {\n",
       "        vertical-align: top;\n",
       "    }\n",
       "\n",
       "    .dataframe thead th {\n",
       "        text-align: right;\n",
       "    }\n",
       "</style>\n",
       "<table border=\"1\" class=\"dataframe\">\n",
       "  <thead>\n",
       "    <tr style=\"text-align: right;\">\n",
       "      <th></th>\n",
       "      <th>index</th>\n",
       "      <th>text</th>\n",
       "      <th>title</th>\n",
       "      <th>id</th>\n",
       "      <th>label</th>\n",
       "    </tr>\n",
       "  </thead>\n",
       "  <tbody>\n",
       "    <tr>\n",
       "      <th>0</th>\n",
       "      <td>0</td>\n",
       "      <td>제 1 조 (계약의 목적)\\n본 계약은 을이 갑의 000 상품을 상호 협의한 할인매...</td>\n",
       "      <td>공급계약</td>\n",
       "      <td>199</td>\n",
       "      <td>disadvantageous</td>\n",
       "    </tr>\n",
       "    <tr>\n",
       "      <th>1</th>\n",
       "      <td>1</td>\n",
       "      <td>제1조 (목 적)\\n000(이하 요양센터)는 시설에 입소한 이용자에 대하여 노인장기...</td>\n",
       "      <td>입소,입주,입점계약</td>\n",
       "      <td>84</td>\n",
       "      <td>disadvantageous</td>\n",
       "    </tr>\n",
       "    <tr>\n",
       "      <th>2</th>\n",
       "      <td>2</td>\n",
       "      <td>갑종부동산관리신탁계약서 \\n\\n \\n \\n\\n위탁자  (이하  위탁자 라 한다)는(...</td>\n",
       "      <td>예식업</td>\n",
       "      <td>166</td>\n",
       "      <td>disadvantageous</td>\n",
       "    </tr>\n",
       "    <tr>\n",
       "      <th>3</th>\n",
       "      <td>3</td>\n",
       "      <td>제1조(계약금액 및 납부기한)\\n1.  을 은 계약과 동시에 계약금을 지불하고,  ...</td>\n",
       "      <td>분양계약</td>\n",
       "      <td>36</td>\n",
       "      <td>disadvantageous</td>\n",
       "    </tr>\n",
       "    <tr>\n",
       "      <th>4</th>\n",
       "      <td>4</td>\n",
       "      <td>제1조 (분양금액)\\n위 표시 물건의 분양금액은 금      (     )원정(부가...</td>\n",
       "      <td>분양계약</td>\n",
       "      <td>28</td>\n",
       "      <td>disadvantageous</td>\n",
       "    </tr>\n",
       "    <tr>\n",
       "      <th>...</th>\n",
       "      <td>...</td>\n",
       "      <td>...</td>\n",
       "      <td>...</td>\n",
       "      <td>...</td>\n",
       "      <td>...</td>\n",
       "    </tr>\n",
       "    <tr>\n",
       "      <th>7995</th>\n",
       "      <td>5595</td>\n",
       "      <td>00000 약관 \\n\\n\\n \\n\\n제1관 목적 및 용어의 정의 \\n\\n \\n\\n제...</td>\n",
       "      <td>질병보험</td>\n",
       "      <td>20</td>\n",
       "      <td>advantageous</td>\n",
       "    </tr>\n",
       "    <tr>\n",
       "      <th>7996</th>\n",
       "      <td>5596</td>\n",
       "      <td>여신거래 약관\\n\\n이 여신금융회사 여신거래기본약관(이하  약관 이라 합니다)은 0...</td>\n",
       "      <td>은행여신</td>\n",
       "      <td>55</td>\n",
       "      <td>advantageous</td>\n",
       "    </tr>\n",
       "    <tr>\n",
       "      <th>7997</th>\n",
       "      <td>5597</td>\n",
       "      <td>1. 총칙 \\n\\n이 서비스 약관은 회원이 000(이하  병원 )에서 제공하는 서비...</td>\n",
       "      <td>산후조리원</td>\n",
       "      <td>481</td>\n",
       "      <td>advantageous</td>\n",
       "    </tr>\n",
       "    <tr>\n",
       "      <th>7998</th>\n",
       "      <td>5598</td>\n",
       "      <td>주택화재보험 보통약관 \\n\\n\\n 제1조(보험계약의 성립) \\n\\n ①보험계약은 보...</td>\n",
       "      <td>화재보험</td>\n",
       "      <td>160</td>\n",
       "      <td>advantageous</td>\n",
       "    </tr>\n",
       "    <tr>\n",
       "      <th>7999</th>\n",
       "      <td>5599</td>\n",
       "      <td>제1조 (영업표지의 사용권 부여에 관한 사항)\\n\\n① 갑은 가맹사업을 영위하기 위...</td>\n",
       "      <td>가맹계약</td>\n",
       "      <td>471</td>\n",
       "      <td>advantageous</td>\n",
       "    </tr>\n",
       "  </tbody>\n",
       "</table>\n",
       "<p>8000 rows × 5 columns</p>\n",
       "</div>"
      ],
      "text/plain": [
       "      index                                               text       title  \\\n",
       "0         0  제 1 조 (계약의 목적)\\n본 계약은 을이 갑의 000 상품을 상호 협의한 할인매...        공급계약   \n",
       "1         1  제1조 (목 적)\\n000(이하 요양센터)는 시설에 입소한 이용자에 대하여 노인장기...  입소,입주,입점계약   \n",
       "2         2  갑종부동산관리신탁계약서 \\n\\n \\n \\n\\n위탁자  (이하  위탁자 라 한다)는(...         예식업   \n",
       "3         3  제1조(계약금액 및 납부기한)\\n1.  을 은 계약과 동시에 계약금을 지불하고,  ...        분양계약   \n",
       "4         4  제1조 (분양금액)\\n위 표시 물건의 분양금액은 금      (     )원정(부가...        분양계약   \n",
       "...     ...                                                ...         ...   \n",
       "7995   5595  00000 약관 \\n\\n\\n \\n\\n제1관 목적 및 용어의 정의 \\n\\n \\n\\n제...        질병보험   \n",
       "7996   5596  여신거래 약관\\n\\n이 여신금융회사 여신거래기본약관(이하  약관 이라 합니다)은 0...        은행여신   \n",
       "7997   5597  1. 총칙 \\n\\n이 서비스 약관은 회원이 000(이하  병원 )에서 제공하는 서비...       산후조리원   \n",
       "7998   5598  주택화재보험 보통약관 \\n\\n\\n 제1조(보험계약의 성립) \\n\\n ①보험계약은 보...        화재보험   \n",
       "7999   5599  제1조 (영업표지의 사용권 부여에 관한 사항)\\n\\n① 갑은 가맹사업을 영위하기 위...        가맹계약   \n",
       "\n",
       "       id            label  \n",
       "0     199  disadvantageous  \n",
       "1      84  disadvantageous  \n",
       "2     166  disadvantageous  \n",
       "3      36  disadvantageous  \n",
       "4      28  disadvantageous  \n",
       "...   ...              ...  \n",
       "7995   20     advantageous  \n",
       "7996   55     advantageous  \n",
       "7997  481     advantageous  \n",
       "7998  160     advantageous  \n",
       "7999  471     advantageous  \n",
       "\n",
       "[8000 rows x 5 columns]"
      ]
     },
     "execution_count": 2,
     "metadata": {},
     "output_type": "execute_result"
    }
   ],
   "source": [
    "clova_summary = ClovaSummary()\n",
    "df = pd.read_json('../data/dataset-term.json')\n",
    "df"
   ]
  },
  {
   "cell_type": "code",
   "execution_count": 3,
   "metadata": {},
   "outputs": [
    {
     "data": {
      "text/html": [
       "<div>\n",
       "<style scoped>\n",
       "    .dataframe tbody tr th:only-of-type {\n",
       "        vertical-align: middle;\n",
       "    }\n",
       "\n",
       "    .dataframe tbody tr th {\n",
       "        vertical-align: top;\n",
       "    }\n",
       "\n",
       "    .dataframe thead th {\n",
       "        text-align: right;\n",
       "    }\n",
       "</style>\n",
       "<table border=\"1\" class=\"dataframe\">\n",
       "  <thead>\n",
       "    <tr style=\"text-align: right;\">\n",
       "      <th></th>\n",
       "      <th>index</th>\n",
       "      <th>text</th>\n",
       "      <th>title</th>\n",
       "      <th>id</th>\n",
       "      <th>label</th>\n",
       "    </tr>\n",
       "  </thead>\n",
       "  <tbody>\n",
       "    <tr>\n",
       "      <th>0</th>\n",
       "      <td>0</td>\n",
       "      <td>제 1 조 (계약의 목적)\\n본 계약은 을이 갑의 000 상품을 상호 협의한 할인매...</td>\n",
       "      <td>공급계약</td>\n",
       "      <td>199</td>\n",
       "      <td>disadvantageous</td>\n",
       "    </tr>\n",
       "    <tr>\n",
       "      <th>1</th>\n",
       "      <td>1</td>\n",
       "      <td>제1조 (목 적)\\n000(이하 요양센터)는 시설에 입소한 이용자에 대하여 노인장기...</td>\n",
       "      <td>입소,입주,입점계약</td>\n",
       "      <td>84</td>\n",
       "      <td>disadvantageous</td>\n",
       "    </tr>\n",
       "    <tr>\n",
       "      <th>2</th>\n",
       "      <td>2</td>\n",
       "      <td>갑종부동산관리신탁계약서 \\n \\n \\n위탁자  (이하  위탁자 라 한다)는(은)  ...</td>\n",
       "      <td>예식업</td>\n",
       "      <td>166</td>\n",
       "      <td>disadvantageous</td>\n",
       "    </tr>\n",
       "    <tr>\n",
       "      <th>3</th>\n",
       "      <td>3</td>\n",
       "      <td>제1조(계약금액 및 납부기한)\\n1.  을 은 계약과 동시에 계약금을 지불하고,  ...</td>\n",
       "      <td>분양계약</td>\n",
       "      <td>36</td>\n",
       "      <td>disadvantageous</td>\n",
       "    </tr>\n",
       "    <tr>\n",
       "      <th>4</th>\n",
       "      <td>4</td>\n",
       "      <td>제1조 (분양금액)\\n위 표시 물건의 분양금액은 금      (     )원정(부가...</td>\n",
       "      <td>분양계약</td>\n",
       "      <td>28</td>\n",
       "      <td>disadvantageous</td>\n",
       "    </tr>\n",
       "    <tr>\n",
       "      <th>...</th>\n",
       "      <td>...</td>\n",
       "      <td>...</td>\n",
       "      <td>...</td>\n",
       "      <td>...</td>\n",
       "      <td>...</td>\n",
       "    </tr>\n",
       "    <tr>\n",
       "      <th>7995</th>\n",
       "      <td>5595</td>\n",
       "      <td>00000 약관 \\n\\n \\n제1관 목적 및 용어의 정의 \\n \\n제1조 ( 목적 ...</td>\n",
       "      <td>질병보험</td>\n",
       "      <td>20</td>\n",
       "      <td>advantageous</td>\n",
       "    </tr>\n",
       "    <tr>\n",
       "      <th>7996</th>\n",
       "      <td>5596</td>\n",
       "      <td>여신거래 약관\\n이 여신금융회사 여신거래기본약관(이하  약관 이라 합니다)은 000...</td>\n",
       "      <td>은행여신</td>\n",
       "      <td>55</td>\n",
       "      <td>advantageous</td>\n",
       "    </tr>\n",
       "    <tr>\n",
       "      <th>7997</th>\n",
       "      <td>5597</td>\n",
       "      <td>1. 총칙 \\n이 서비스 약관은 회원이 000(이하  병원 )에서 제공하는 서비스(...</td>\n",
       "      <td>산후조리원</td>\n",
       "      <td>481</td>\n",
       "      <td>advantageous</td>\n",
       "    </tr>\n",
       "    <tr>\n",
       "      <th>7998</th>\n",
       "      <td>5598</td>\n",
       "      <td>주택화재보험 보통약관 \\n\\n 제1조(보험계약의 성립) \\n ①보험계약은 보험계약자...</td>\n",
       "      <td>화재보험</td>\n",
       "      <td>160</td>\n",
       "      <td>advantageous</td>\n",
       "    </tr>\n",
       "    <tr>\n",
       "      <th>7999</th>\n",
       "      <td>5599</td>\n",
       "      <td>제1조 (영업표지의 사용권 부여에 관한 사항)\\n① 갑은 가맹사업을 영위하기 위하여...</td>\n",
       "      <td>가맹계약</td>\n",
       "      <td>471</td>\n",
       "      <td>advantageous</td>\n",
       "    </tr>\n",
       "  </tbody>\n",
       "</table>\n",
       "<p>8000 rows × 5 columns</p>\n",
       "</div>"
      ],
      "text/plain": [
       "      index                                               text       title  \\\n",
       "0         0  제 1 조 (계약의 목적)\\n본 계약은 을이 갑의 000 상품을 상호 협의한 할인매...        공급계약   \n",
       "1         1  제1조 (목 적)\\n000(이하 요양센터)는 시설에 입소한 이용자에 대하여 노인장기...  입소,입주,입점계약   \n",
       "2         2  갑종부동산관리신탁계약서 \\n \\n \\n위탁자  (이하  위탁자 라 한다)는(은)  ...         예식업   \n",
       "3         3  제1조(계약금액 및 납부기한)\\n1.  을 은 계약과 동시에 계약금을 지불하고,  ...        분양계약   \n",
       "4         4  제1조 (분양금액)\\n위 표시 물건의 분양금액은 금      (     )원정(부가...        분양계약   \n",
       "...     ...                                                ...         ...   \n",
       "7995   5595  00000 약관 \\n\\n \\n제1관 목적 및 용어의 정의 \\n \\n제1조 ( 목적 ...        질병보험   \n",
       "7996   5596  여신거래 약관\\n이 여신금융회사 여신거래기본약관(이하  약관 이라 합니다)은 000...        은행여신   \n",
       "7997   5597  1. 총칙 \\n이 서비스 약관은 회원이 000(이하  병원 )에서 제공하는 서비스(...       산후조리원   \n",
       "7998   5598  주택화재보험 보통약관 \\n\\n 제1조(보험계약의 성립) \\n ①보험계약은 보험계약자...        화재보험   \n",
       "7999   5599  제1조 (영업표지의 사용권 부여에 관한 사항)\\n① 갑은 가맹사업을 영위하기 위하여...        가맹계약   \n",
       "\n",
       "       id            label  \n",
       "0     199  disadvantageous  \n",
       "1      84  disadvantageous  \n",
       "2     166  disadvantageous  \n",
       "3      36  disadvantageous  \n",
       "4      28  disadvantageous  \n",
       "...   ...              ...  \n",
       "7995   20     advantageous  \n",
       "7996   55     advantageous  \n",
       "7997  481     advantageous  \n",
       "7998  160     advantageous  \n",
       "7999  471     advantageous  \n",
       "\n",
       "[8000 rows x 5 columns]"
      ]
     },
     "execution_count": 3,
     "metadata": {},
     "output_type": "execute_result"
    }
   ],
   "source": [
    "df['text'] = df['text'].str.replace('\\n\\n', '\\n').replace('\\n\\n', '\\n').replace('\\n \\n', '\\n')\n",
    "df"
   ]
  },
  {
   "cell_type": "code",
   "execution_count": 12,
   "metadata": {},
   "outputs": [
    {
     "name": "stderr",
     "output_type": "stream",
     "text": [
      "100%|██████████| 8000/8000 [1:23:40<00:00,  1.59it/s]\n"
     ]
    }
   ],
   "source": [
    "summarization_lt = []\n",
    "for text in tqdm(df['text']):\n",
    "    text = text[:2000]\n",
    "    try:\n",
    "        summarization_lt.append(clova_summary.summarize(text))\n",
    "    except Exception:\n",
    "        summarization_lt.append('')"
   ]
  },
  {
   "cell_type": "code",
   "execution_count": 15,
   "metadata": {},
   "outputs": [
    {
     "data": {
      "text/plain": [
       "57"
      ]
     },
     "execution_count": 15,
     "metadata": {},
     "output_type": "execute_result"
    }
   ],
   "source": [
    "(df['summary'] == '').sum()"
   ]
  },
  {
   "cell_type": "code",
   "execution_count": 19,
   "metadata": {},
   "outputs": [
    {
     "name": "stderr",
     "output_type": "stream",
     "text": [
      "/tmp/ipykernel_1848/811806240.py:1: SettingWithCopyWarning: \n",
      "A value is trying to be set on a copy of a slice from a DataFrame.\n",
      "Try using .loc[row_indexer,col_indexer] = value instead\n",
      "\n",
      "See the caveats in the documentation: https://pandas.pydata.org/pandas-docs/stable/user_guide/indexing.html#returning-a-view-versus-a-copy\n",
      "  df['summary'] = pd.Series(summarization_lt)\n",
      "/tmp/ipykernel_1848/811806240.py:2: SettingWithCopyWarning: \n",
      "A value is trying to be set on a copy of a slice from a DataFrame.\n",
      "Try using .loc[row_indexer,col_indexer] = value instead\n",
      "\n",
      "See the caveats in the documentation: https://pandas.pydata.org/pandas-docs/stable/user_guide/indexing.html#returning-a-view-versus-a-copy\n",
      "  df['summary'] = df['summary'].replace('', pd.NA)\n"
     ]
    },
    {
     "data": {
      "text/plain": [
       "index      0\n",
       "text       0\n",
       "title      0\n",
       "id         0\n",
       "label      0\n",
       "summary    0\n",
       "dtype: int64"
      ]
     },
     "execution_count": 19,
     "metadata": {},
     "output_type": "execute_result"
    }
   ],
   "source": [
    "df['summary'] = pd.Series(summarization_lt)\n",
    "df['summary'] = df['summary'].replace('', pd.NA)\n",
    "df.isna().sum()\n",
    "df = df.dropna()\n",
    "df.isna().sum()"
   ]
  },
  {
   "cell_type": "code",
   "execution_count": 21,
   "metadata": {},
   "outputs": [
    {
     "data": {
      "text/plain": [
       "7943"
      ]
     },
     "execution_count": 21,
     "metadata": {},
     "output_type": "execute_result"
    }
   ],
   "source": [
    "len(df)"
   ]
  },
  {
   "cell_type": "code",
   "execution_count": 22,
   "metadata": {},
   "outputs": [],
   "source": [
    "df.to_json('../data/dataset-term-summary.json')"
   ]
  }
 ],
 "metadata": {
  "kernelspec": {
   "display_name": "Python 3",
   "language": "python",
   "name": "python3"
  },
  "language_info": {
   "codemirror_mode": {
    "name": "ipython",
    "version": 3
   },
   "file_extension": ".py",
   "mimetype": "text/x-python",
   "name": "python",
   "nbconvert_exporter": "python",
   "pygments_lexer": "ipython3",
   "version": "3.10.6"
  },
  "orig_nbformat": 4
 },
 "nbformat": 4,
 "nbformat_minor": 2
}
