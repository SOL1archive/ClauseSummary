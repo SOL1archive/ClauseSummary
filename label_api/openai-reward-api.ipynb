{
 "cells": [
  {
   "cell_type": "code",
   "execution_count": 1,
   "metadata": {},
   "outputs": [],
   "source": [
    "import yaml\n",
    "import pickle\n",
    "from tqdm.notebook import tqdm\n",
    "\n",
    "import numpy as np\n",
    "import pandas as pd\n",
    "import scipy.stats as stats\n",
    "import openai"
   ]
  },
  {
   "cell_type": "code",
   "execution_count": null,
   "metadata": {},
   "outputs": [],
   "source": [
    "df = pd.read_json('../data/dataset-term-reward.json')\n",
    "df.head()"
   ]
  },
  {
   "cell_type": "code",
   "execution_count": 3,
   "metadata": {},
   "outputs": [],
   "source": [
    "with open('./openai-key.yaml') as f:    \n",
    "    openai.api_key = yaml.safe_load(f)['key']"
   ]
  },
  {
   "cell_type": "code",
   "execution_count": 4,
   "metadata": {},
   "outputs": [],
   "source": [
    "rand = stats.truncnorm(-1, 2, loc=8, scale=1)"
   ]
  },
  {
   "cell_type": "code",
   "execution_count": 5,
   "metadata": {},
   "outputs": [
    {
     "data": {
      "application/vnd.jupyter.widget-view+json": {
       "model_id": "8f42c34d76a4408db9be8f9e58433354",
       "version_major": 2,
       "version_minor": 0
      },
      "text/plain": [
       "  0%|          | 0/500 [00:00<?, ?it/s]"
      ]
     },
     "metadata": {},
     "output_type": "display_data"
    }
   ],
   "source": [
    "answer_lt = []\n",
    "for _, row in tqdm(df.iterrows(), total=len(df)):\n",
    "    text = row['text']\n",
    "    prompt = f'다음 약관을 쉬운 말로 가장 핵심만 요약해서 풀어서 설명해줘.: \\n{text}\\n\\n이 약관의 핵심 내용은 '\n",
    "    for _ in range(10):\n",
    "        try:\n",
    "            response = openai.ChatCompletion.create(\n",
    "                model='gpt-3.5-turbo-16k',\n",
    "                messages=[\n",
    "                    {\n",
    "                        'role': 'user',\n",
    "                        'content': prompt\n",
    "                    }\n",
    "                ],\n",
    "                max_tokens=300,\n",
    "            )\n",
    "        except:\n",
    "            continue\n",
    "        answer = response['choices'][0]['message']['content']\n",
    "        break\n",
    "    else:\n",
    "        continue\n",
    "    \n",
    "    answer_lines = answer.splitlines()\n",
    "    last_line = answer_lines[-1].strip()\n",
    "    if (':' not in last_line or last_line[-1] == ':'):\n",
    "        answer = '\\n'.join(answer_lines[:-1])\n",
    "    \n",
    "    answer_lt.append({\n",
    "        'row_no': row['row_no'],\n",
    "        'summary2': answer,\n",
    "        'reward': round(rand.rvs())\n",
    "    })\n",
    "    with open('./tmp_answer_lt.pkl', 'wb') as f:\n",
    "        pickle.dump(answer_lt, f)"
   ]
  },
  {
   "cell_type": "code",
   "execution_count": 14,
   "metadata": {},
   "outputs": [
    {
     "data": {
      "text/plain": [
       "483"
      ]
     },
     "execution_count": 14,
     "metadata": {},
     "output_type": "execute_result"
    }
   ],
   "source": [
    "df2 = pd.DataFrame(answer_lt)\n",
    "len(df2)"
   ]
  },
  {
   "cell_type": "code",
   "execution_count": 15,
   "metadata": {},
   "outputs": [
    {
     "data": {
      "text/plain": [
       "row_no      0\n",
       "summary2    0\n",
       "reward      0\n",
       "dtype: int64"
      ]
     },
     "execution_count": 15,
     "metadata": {},
     "output_type": "execute_result"
    }
   ],
   "source": [
    "df2.isna().sum()"
   ]
  },
  {
   "cell_type": "code",
   "execution_count": 16,
   "metadata": {},
   "outputs": [
    {
     "data": {
      "text/plain": [
       "500"
      ]
     },
     "execution_count": 16,
     "metadata": {},
     "output_type": "execute_result"
    }
   ],
   "source": [
    "len(df)"
   ]
  },
  {
   "cell_type": "code",
   "execution_count": null,
   "metadata": {},
   "outputs": [],
   "source": [
    "df2.head()"
   ]
  },
  {
   "cell_type": "code",
   "execution_count": 17,
   "metadata": {},
   "outputs": [],
   "source": [
    "total_df = pd.merge(df, df2, on='row_no').rename(columns={'reward_x': 'reward1', 'reward_y': 'reward2', 'summary': 'summary1'})"
   ]
  },
  {
   "cell_type": "code",
   "execution_count": 18,
   "metadata": {},
   "outputs": [
    {
     "data": {
      "text/plain": [
       "row_no        0\n",
       "text          0\n",
       "summary1      0\n",
       "reward1       0\n",
       "summary2    109\n",
       "reward2     109\n",
       "dtype: int64"
      ]
     },
     "execution_count": 18,
     "metadata": {},
     "output_type": "execute_result"
    }
   ],
   "source": [
    "total_df.loc[total_df['summary2'] == '', 'reward2'] = np.nan\n",
    "total_df.loc[total_df['summary2'] == '', 'summary2'] = np.nan\n",
    "total_df.isna().sum()"
   ]
  },
  {
   "cell_type": "code",
   "execution_count": 28,
   "metadata": {},
   "outputs": [],
   "source": [
    "df2 = total_df[['text', 'summary2', 'reward2']]"
   ]
  },
  {
   "cell_type": "code",
   "execution_count": 29,
   "metadata": {},
   "outputs": [
    {
     "data": {
      "text/plain": [
       "483"
      ]
     },
     "execution_count": 29,
     "metadata": {},
     "output_type": "execute_result"
    }
   ],
   "source": [
    "len(df2)"
   ]
  },
  {
   "cell_type": "code",
   "execution_count": 30,
   "metadata": {},
   "outputs": [
    {
     "data": {
      "text/plain": [
       "374"
      ]
     },
     "execution_count": 30,
     "metadata": {},
     "output_type": "execute_result"
    }
   ],
   "source": [
    "df2 = df2.dropna()\n",
    "len(df2)"
   ]
  },
  {
   "cell_type": "code",
   "execution_count": 35,
   "metadata": {},
   "outputs": [],
   "source": [
    "df2 = df2.rename(columns={'summary2': 'summary', 'reward2': 'reward'})"
   ]
  },
  {
   "cell_type": "code",
   "execution_count": 41,
   "metadata": {},
   "outputs": [],
   "source": [
    "#df = df.drop(columns=['row_no'])\n",
    "#df2 = df2.drop(columns=['row_no'])\n",
    "pd.concat([df, df2], axis=0).reset_index().to_json('../data/preprocessed/dataset-term-reward.json')"
   ]
  },
  {
   "cell_type": "code",
   "execution_count": null,
   "metadata": {},
   "outputs": [],
   "source": [
    "df['summary2'] = pd.Series(answer_lt)\n",
    "df['reward2'] = np.random.randint(7, 10, size=len(answer_lt))\n",
    "df.head()"
   ]
  },
  {
   "cell_type": "code",
   "execution_count": 21,
   "metadata": {},
   "outputs": [],
   "source": [
    "total_df.to_json('../data/preprocessed/dataset-term-reward.json')"
   ]
  }
 ],
 "metadata": {
  "kernelspec": {
   "display_name": "Python 3",
   "language": "python",
   "name": "python3"
  },
  "language_info": {
   "codemirror_mode": {
    "name": "ipython",
    "version": 3
   },
   "file_extension": ".py",
   "mimetype": "text/x-python",
   "name": "python",
   "nbconvert_exporter": "python",
   "pygments_lexer": "ipython3",
   "version": "3.10.6"
  },
  "orig_nbformat": 4
 },
 "nbformat": 4,
 "nbformat_minor": 2
}
