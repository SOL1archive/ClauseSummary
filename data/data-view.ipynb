{
 "cells": [
  {
   "cell_type": "code",
   "execution_count": 1,
   "metadata": {},
   "outputs": [],
   "source": [
    "import os\n",
    "import pathlib\n",
    "import sys\n",
    "import csv\n",
    "import json\n",
    "\n",
    "import numpy as np\n",
    "import pandas as pd"
   ]
  },
  {
   "attachments": {},
   "cell_type": "markdown",
   "metadata": {},
   "source": [
    "## Term dataset view"
   ]
  },
  {
   "cell_type": "code",
   "execution_count": 2,
   "metadata": {},
   "outputs": [
    {
     "data": {
      "text/html": [
       "<div>\n",
       "<style scoped>\n",
       "    .dataframe tbody tr th:only-of-type {\n",
       "        vertical-align: middle;\n",
       "    }\n",
       "\n",
       "    .dataframe tbody tr th {\n",
       "        vertical-align: top;\n",
       "    }\n",
       "\n",
       "    .dataframe thead th {\n",
       "        text-align: right;\n",
       "    }\n",
       "</style>\n",
       "<table border=\"1\" class=\"dataframe\">\n",
       "  <thead>\n",
       "    <tr style=\"text-align: right;\">\n",
       "      <th></th>\n",
       "      <th>text</th>\n",
       "      <th>title</th>\n",
       "      <th>id</th>\n",
       "      <th>label</th>\n",
       "    </tr>\n",
       "  </thead>\n",
       "  <tbody>\n",
       "    <tr>\n",
       "      <th>0</th>\n",
       "      <td>제 1 조 (계약의 목적)\\n본 계약은 을이 갑의 000 상품을 상호 협의한 할인매...</td>\n",
       "      <td>공급계약</td>\n",
       "      <td>199</td>\n",
       "      <td>disadvantageous</td>\n",
       "    </tr>\n",
       "    <tr>\n",
       "      <th>1</th>\n",
       "      <td>제1조 (목 적)\\n000(이하 요양센터)는 시설에 입소한 이용자에 대하여 노인장기...</td>\n",
       "      <td>입소,입주,입점계약</td>\n",
       "      <td>084</td>\n",
       "      <td>disadvantageous</td>\n",
       "    </tr>\n",
       "    <tr>\n",
       "      <th>2</th>\n",
       "      <td>갑종부동산관리신탁계약서 \\n\\n \\n \\n\\n위탁자  (이하  위탁자 라 한다)는(...</td>\n",
       "      <td>예식업</td>\n",
       "      <td>166</td>\n",
       "      <td>disadvantageous</td>\n",
       "    </tr>\n",
       "    <tr>\n",
       "      <th>3</th>\n",
       "      <td>제1조(계약금액 및 납부기한)\\n1.  을 은 계약과 동시에 계약금을 지불하고,  ...</td>\n",
       "      <td>분양계약</td>\n",
       "      <td>036</td>\n",
       "      <td>disadvantageous</td>\n",
       "    </tr>\n",
       "    <tr>\n",
       "      <th>4</th>\n",
       "      <td>제1조 (분양금액)\\n위 표시 물건의 분양금액은 금      (     )원정(부가...</td>\n",
       "      <td>분양계약</td>\n",
       "      <td>028</td>\n",
       "      <td>disadvantageous</td>\n",
       "    </tr>\n",
       "  </tbody>\n",
       "</table>\n",
       "</div>"
      ],
      "text/plain": [
       "                                                text       title   id  \\\n",
       "0  제 1 조 (계약의 목적)\\n본 계약은 을이 갑의 000 상품을 상호 협의한 할인매...        공급계약  199   \n",
       "1  제1조 (목 적)\\n000(이하 요양센터)는 시설에 입소한 이용자에 대하여 노인장기...  입소,입주,입점계약  084   \n",
       "2  갑종부동산관리신탁계약서 \\n\\n \\n \\n\\n위탁자  (이하  위탁자 라 한다)는(...         예식업  166   \n",
       "3  제1조(계약금액 및 납부기한)\\n1.  을 은 계약과 동시에 계약금을 지불하고,  ...        분양계약  036   \n",
       "4  제1조 (분양금액)\\n위 표시 물건의 분양금액은 금      (     )원정(부가...        분양계약  028   \n",
       "\n",
       "             label  \n",
       "0  disadvantageous  \n",
       "1  disadvantageous  \n",
       "2  disadvantageous  \n",
       "3  disadvantageous  \n",
       "4  disadvantageous  "
      ]
     },
     "execution_count": 2,
     "metadata": {},
     "output_type": "execute_result"
    }
   ],
   "source": [
    "df = pd.read_pickle('./dataset-term.pkl')\n",
    "df.head()"
   ]
  },
  {
   "cell_type": "code",
   "execution_count": 4,
   "metadata": {},
   "outputs": [
    {
     "data": {
      "text/plain": [
       "array(['disadvantageous', 'advantageous'], dtype=object)"
      ]
     },
     "execution_count": 4,
     "metadata": {},
     "output_type": "execute_result"
    }
   ],
   "source": [
    "df['label'].unique()"
   ]
  },
  {
   "cell_type": "code",
   "execution_count": 5,
   "metadata": {},
   "outputs": [
    {
     "data": {
      "text/plain": [
       "advantageous       5600\n",
       "disadvantageous    2400\n",
       "Name: label, dtype: int64"
      ]
     },
     "execution_count": 5,
     "metadata": {},
     "output_type": "execute_result"
    }
   ],
   "source": [
    "df['label'].value_counts()"
   ]
  },
  {
   "cell_type": "code",
   "execution_count": 6,
   "metadata": {},
   "outputs": [
    {
     "data": {
      "text/plain": [
       "count      8000.000000\n",
       "mean       9897.577250\n",
       "std        9227.266921\n",
       "min           0.000000\n",
       "25%        4173.750000\n",
       "50%        6785.500000\n",
       "75%       12330.000000\n",
       "max      133747.000000\n",
       "Name: text, dtype: float64"
      ]
     },
     "execution_count": 6,
     "metadata": {},
     "output_type": "execute_result"
    }
   ],
   "source": [
    "df['text'].map(len).describe()"
   ]
  },
  {
   "cell_type": "code",
   "execution_count": 11,
   "metadata": {},
   "outputs": [],
   "source": [
    "df.reset_index().to_json('./dataset-term.json')"
   ]
  },
  {
   "attachments": {},
   "cell_type": "markdown",
   "metadata": {},
   "source": [
    "## Term Summary Dataset View"
   ]
  },
  {
   "cell_type": "code",
   "execution_count": 2,
   "metadata": {},
   "outputs": [
    {
     "data": {
      "text/html": [
       "<div>\n",
       "<style scoped>\n",
       "    .dataframe tbody tr th:only-of-type {\n",
       "        vertical-align: middle;\n",
       "    }\n",
       "\n",
       "    .dataframe tbody tr th {\n",
       "        vertical-align: top;\n",
       "    }\n",
       "\n",
       "    .dataframe thead th {\n",
       "        text-align: right;\n",
       "    }\n",
       "</style>\n",
       "<table border=\"1\" class=\"dataframe\">\n",
       "  <thead>\n",
       "    <tr style=\"text-align: right;\">\n",
       "      <th></th>\n",
       "      <th>index</th>\n",
       "      <th>text</th>\n",
       "      <th>title</th>\n",
       "      <th>id</th>\n",
       "      <th>label</th>\n",
       "      <th>summary</th>\n",
       "    </tr>\n",
       "  </thead>\n",
       "  <tbody>\n",
       "    <tr>\n",
       "      <th>0</th>\n",
       "      <td>0</td>\n",
       "      <td>제 1 조 (계약의 목적)\\n본 계약은 을이 갑의 000 상품을 상호 협의한 할인매...</td>\n",
       "      <td>공급계약</td>\n",
       "      <td>199</td>\n",
       "      <td>disadvantageous</td>\n",
       "      <td>제7조 (근저당권 설정)을은 제4조 대금지급의무 기타 본 계약상의 의무 이행을 담보...</td>\n",
       "    </tr>\n",
       "    <tr>\n",
       "      <th>1</th>\n",
       "      <td>1</td>\n",
       "      <td>제1조 (목 적)\\n000(이하 요양센터)는 시설에 입소한 이용자에 대하여 노인장기...</td>\n",
       "      <td>입소,입주,입점계약</td>\n",
       "      <td>84</td>\n",
       "      <td>disadvantageous</td>\n",
       "      <td>제1조 (목 적)000(이하 요양센터)는 시설에 입소한 이용자에 대하여 노인장기요양...</td>\n",
       "    </tr>\n",
       "    <tr>\n",
       "      <th>2</th>\n",
       "      <td>2</td>\n",
       "      <td>갑종부동산관리신탁계약서 \\n위탁자  (이하  위탁자 라 한다)는(은)  별지1 신탁...</td>\n",
       "      <td>예식업</td>\n",
       "      <td>166</td>\n",
       "      <td>disadvantageous</td>\n",
       "      <td>제1조(목적) 이 약관은 예식장을 운영하는 사업자(이하 사업자 라 합니다)와 예식장...</td>\n",
       "    </tr>\n",
       "    <tr>\n",
       "      <th>3</th>\n",
       "      <td>3</td>\n",
       "      <td>제1조(계약금액 및 납부기한)\\n1.  을 은 계약과 동시에 계약금을 지불하고,  ...</td>\n",
       "      <td>분양계약</td>\n",
       "      <td>36</td>\n",
       "      <td>disadvantageous</td>\n",
       "      <td>(1) 계약금(2) 중도금 1차(3) 중도금 2차(4) 잔금제2조(계약의 해제)1....</td>\n",
       "    </tr>\n",
       "    <tr>\n",
       "      <th>4</th>\n",
       "      <td>4</td>\n",
       "      <td>제1조 (분양금액)\\n위 표시 물건의 분양금액은 금      (     )원정(부가...</td>\n",
       "      <td>분양계약</td>\n",
       "      <td>28</td>\n",
       "      <td>disadvantageous</td>\n",
       "      <td>2. 제2조 제2항에 해당하는 사유로 본 계약이 해제된 때에는 갑 은 을 에게 공급...</td>\n",
       "    </tr>\n",
       "  </tbody>\n",
       "</table>\n",
       "</div>"
      ],
      "text/plain": [
       "   index                                               text       title   id  \\\n",
       "0      0  제 1 조 (계약의 목적)\\n본 계약은 을이 갑의 000 상품을 상호 협의한 할인매...        공급계약  199   \n",
       "1      1  제1조 (목 적)\\n000(이하 요양센터)는 시설에 입소한 이용자에 대하여 노인장기...  입소,입주,입점계약   84   \n",
       "2      2  갑종부동산관리신탁계약서 \\n위탁자  (이하  위탁자 라 한다)는(은)  별지1 신탁...         예식업  166   \n",
       "3      3  제1조(계약금액 및 납부기한)\\n1.  을 은 계약과 동시에 계약금을 지불하고,  ...        분양계약   36   \n",
       "4      4  제1조 (분양금액)\\n위 표시 물건의 분양금액은 금      (     )원정(부가...        분양계약   28   \n",
       "\n",
       "             label                                            summary  \n",
       "0  disadvantageous  제7조 (근저당권 설정)을은 제4조 대금지급의무 기타 본 계약상의 의무 이행을 담보...  \n",
       "1  disadvantageous  제1조 (목 적)000(이하 요양센터)는 시설에 입소한 이용자에 대하여 노인장기요양...  \n",
       "2  disadvantageous  제1조(목적) 이 약관은 예식장을 운영하는 사업자(이하 사업자 라 합니다)와 예식장...  \n",
       "3  disadvantageous  (1) 계약금(2) 중도금 1차(3) 중도금 2차(4) 잔금제2조(계약의 해제)1....  \n",
       "4  disadvantageous  2. 제2조 제2항에 해당하는 사유로 본 계약이 해제된 때에는 갑 은 을 에게 공급...  "
      ]
     },
     "execution_count": 2,
     "metadata": {},
     "output_type": "execute_result"
    }
   ],
   "source": [
    "df = pd.read_json('./dataset-term-summary.json')\n",
    "df.head()"
   ]
  }
 ],
 "metadata": {
  "kernelspec": {
   "display_name": "Python 3",
   "language": "python",
   "name": "python3"
  },
  "language_info": {
   "codemirror_mode": {
    "name": "ipython",
    "version": 3
   },
   "file_extension": ".py",
   "mimetype": "text/x-python",
   "name": "python",
   "nbconvert_exporter": "python",
   "pygments_lexer": "ipython3",
   "version": "3.10.6"
  },
  "orig_nbformat": 4
 },
 "nbformat": 4,
 "nbformat_minor": 2
}
