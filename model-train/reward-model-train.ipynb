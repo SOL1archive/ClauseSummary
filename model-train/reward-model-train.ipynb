{
 "cells": [
  {
   "cell_type": "code",
   "execution_count": null,
   "metadata": {},
   "outputs": [],
   "source": [
    "try:\n",
    "  import google.colab\n",
    "  IN_COLAB = True\n",
    "except:\n",
    "  IN_COLAB = False\n",
    "\n",
    "'Process in Colab' if IN_COLAB else 'Process in Local'"
   ]
  },
  {
   "cell_type": "code",
   "execution_count": null,
   "metadata": {},
   "outputs": [],
   "source": [
    "if IN_COLAB:\n",
    "    !pip install transformers\n",
    "    !pip install datasets\n",
    "    !pip install --upgrade accelerate"
   ]
  },
  {
   "cell_type": "code",
   "execution_count": null,
   "metadata": {},
   "outputs": [],
   "source": [
    "if IN_COLAB:\n",
    "    from google.colab import drive\n",
    "    drive.mount('/content/drive/')"
   ]
  },
  {
   "cell_type": "code",
   "execution_count": null,
   "metadata": {},
   "outputs": [],
   "source": [
    "# 깃허브에서는 빼야됨\n",
    "%cd drive/MyDrive/projects/ClauseSummary"
   ]
  },
  {
   "cell_type": "code",
   "execution_count": null,
   "metadata": {},
   "outputs": [],
   "source": [
    "import warnings\n",
    "warnings.simplefilter(action='ignore', category=FutureWarning)\n",
    "import datetime\n",
    "import re\n",
    "import os\n",
    "import gc\n",
    "from pprint import pprint\n",
    "from tqdm.notebook import tqdm\n",
    "\n",
    "import numpy as np\n",
    "import pandas as pd\n",
    "\n",
    "import torch\n",
    "import torch.nn as nn\n",
    "import torch.nn.functional as F\n",
    "from torch.nn.utils.rnn import pad_sequence\n",
    "import torch.optim as optim\n",
    "from torch.optim import AdamW, SGD\n",
    "from torch.nn import MSELoss\n",
    "from torch.utils.data import DataLoader\n",
    "\n",
    "from datasets import load_from_disk, load_dataset, Dataset, DatasetDict\n",
    "from transformers import AutoTokenizer, LongformerTokenizer, AutoModel, AutoModelForMaskedLM\n",
    "from transformers import get_linear_schedule_with_warmup\n",
    "from transformers import Trainer, TrainingArguments"
   ]
  },
  {
   "cell_type": "code",
   "execution_count": null,
   "metadata": {},
   "outputs": [],
   "source": [
    "class TokenizeMapWrapper:\n",
    "    def __init__(self, tokenizer, feature, option=None):\n",
    "        if option is None:\n",
    "            option = {\n",
    "                'max_length': 512,\n",
    "                'truncation': True,\n",
    "                'padding': 'max_length',\n",
    "            }\n",
    "        \n",
    "        self.feature = feature\n",
    "        self.tokenizer = tokenizer\n",
    "\n",
    "    def __call__(self, row):\n",
    "        return self.tokenizer(row[self.feature], **self.option)\n",
    "\n",
    "    def __repr__(self):\n",
    "        return f'{self.__class__.__name__}(tokenizer={self.tokenizer})'\n",
    "\n",
    "class TokenizeMapWrapper(TokenizeMapWrapper):\n",
    "    def __init__(self, tokenizer, feature, max_token=4096, option=None):\n",
    "        if option is None:\n",
    "            option = {\n",
    "                'max_length': max_token,\n",
    "                'truncation': True,\n",
    "            }\n",
    "\n",
    "        self.max_token = option['max_new_tokens']\n",
    "        self.option = option\n",
    "        self.feature = feature\n",
    "        self.tokenizer = tokenizer\n",
    "\n",
    "    def __call__(self, row):\n",
    "        total_text = row[self.feature]\n",
    "        if len(re.findall('\\nSummary: \\n', total_text)) == 1:\n",
    "            text, summary = total_text.split('Summary: \\n')\n",
    "            summary = '\\nSummary: \\n' + summary\n",
    "        else:\n",
    "            print('warning: more than two summary exists')\n",
    "            text_split = total_text.split('Summary: \\n')\n",
    "            text = text_split[0]\n",
    "            summary = '\\nSummary: \\n'.join(text_split[1:])\n",
    "        \n",
    "        tokenized_text = self.tokenizer(text, **self.option)\n",
    "        tokenized_summary = self.tokenizer(summary, **self.option)\n",
    "        tokenized_total_text = dict()\n",
    "        if len(tokenized_text['input_ids']) + len(tokenized_summary['input_ids']) <= self.max_token:\n",
    "            for key in tokenized_text:\n",
    "                tokenized_total_text[key] = tokenized_text[key] + tokenized_summary[key]\n",
    "                if len(tokenized_total_text[key]) < self.max_token:\n",
    "                    tokenized_total_text[key] = (tokenized_total_text[key] \n",
    "                                                 + [1] * (self.max_token - len(tokenized_total_text[key]))\n",
    "                    )\n",
    "        else:\n",
    "            for key in tokenized_text:\n",
    "                tokenized_total_text[key] = (tokenized_text[key][:- len(tokenized_summary['input_ids'])] \n",
    "                                             + tokenized_summary[key]\n",
    "                )\n",
    "\n",
    "        return tokenized_total_text"
   ]
  },
  {
   "cell_type": "code",
   "execution_count": null,
   "metadata": {},
   "outputs": [],
   "source": [
    "class ModelForRewardGeneration(nn.Module):\n",
    "    def __init__(self, encoder, hidden_size):\n",
    "        super(ModelForRewardGeneration, self).__init__()\n",
    "        self.encoder = encoder\n",
    "        self.hidden_size = hidden_size\n",
    "        self.head = nn.Sequential(\n",
    "            nn.Linear(768, hidden_size, bias=False),\n",
    "            nn.BatchNorm1d(hidden_size),\n",
    "            nn.GELU(),\n",
    "            nn.Dropout1d(0.1),\n",
    "            nn.Linear(hidden_size, 1),\n",
    "        )\n",
    "\n",
    "    def forward(self, input_ids=None, attention_mask=None):\n",
    "        x = self.encoder(input_ids, attention_mask)\n",
    "        x = x['last_hidden_state'][:, 0, :]\n",
    "        x = self.head(x)\n",
    "        return x\n",
    "\n",
    "def reference_reward_loss(reward, pred):\n",
    "    return - torch.log10(1 + torch.exp(-reward * pred))"
   ]
  },
  {
   "attachments": {},
   "cell_type": "markdown",
   "metadata": {},
   "source": [
    "## Setting"
   ]
  },
  {
   "cell_type": "code",
   "execution_count": null,
   "metadata": {},
   "outputs": [],
   "source": [
    "MANUAL_TRAINING = True\n",
    "MANUAL_VALIDATION = True\n",
    "MID_CHECKPOINT_NUM = 2\n",
    "MID_PROCESS_PRINT_NUM = 35\n",
    "\n",
    "NUM_EPOCHS = 1\n",
    "MAX_TOKEN = 4096\n",
    "learning_rate = 2e-5\n",
    "decay = 0.01"
   ]
  },
  {
   "cell_type": "code",
   "execution_count": null,
   "metadata": {},
   "outputs": [],
   "source": [
    "kolongformer_checkpoint = \"psyche/kolongformer-4096\"\n",
    "checkpoint = kolongformer_checkpoint\n",
    "print(f'Using Checkpoint: {checkpoint}')"
   ]
  },
  {
   "cell_type": "code",
   "execution_count": null,
   "metadata": {},
   "outputs": [],
   "source": [
    "original_dataset_path = './data/dataset-term-reward.json'\n",
    "tokenized_dataset_path = f'./data/{checkpoint.replace(\"/\", \"-\")}-tokenized-dataset'"
   ]
  },
  {
   "cell_type": "code",
   "execution_count": null,
   "metadata": {},
   "outputs": [],
   "source": [
    "SAVE_STR = datetime.datetime.now().strftime('%y%m%d-%H:%M')\n",
    "model_save_path = f\"./model/{SAVE_STR}\""
   ]
  },
  {
   "attachments": {},
   "cell_type": "markdown",
   "metadata": {},
   "source": [
    "## Load Tokenizer & Model Checkpoint"
   ]
  },
  {
   "cell_type": "code",
   "execution_count": null,
   "metadata": {},
   "outputs": [],
   "source": [
    "tokenizer = LongformerTokenizer.from_pretrained(checkpoint)\n",
    "#tokenizer = LongformerTokenizer(vocab_file, merges_file, errors='replace', bos_token='<s>', eos_token='</s>', sep_token='</s>', cls_token='<s>', unk_token='<unk>', pad_token='<pad>', mask_token='<mask>', add_prefix_space=False, **kwargs)\n",
    "\n",
    "encoder_model = AutoModel.from_pretrained(checkpoint)\n",
    "model = ModelForRewardGeneration(encoder_model, 256)"
   ]
  },
  {
   "cell_type": "code",
   "execution_count": null,
   "metadata": {},
   "outputs": [],
   "source": [
    "if len(tokenizer) != model.config.vocab_size:\n",
    "    raise RuntimeError(f'Tokenizer vocab size and model vocab size do not match(Tokenizer:{len(tokenizer)} Model: {model.config.vocab_size}). Which would lead to further error in training.')"
   ]
  },
  {
   "attachments": {},
   "cell_type": "markdown",
   "metadata": {},
   "source": [
    "## Loading Dataset"
   ]
  },
  {
   "cell_type": "code",
   "execution_count": null,
   "metadata": {},
   "outputs": [],
   "source": [
    "if not os.path.exists(tokenized_dataset_path):\n",
    "    df = pd.read_json(original_dataset_path, encoding='utf-8')\n",
    "    df['total_text'] = (pd.Series(['Text: \\n'] * len(df)) \n",
    "                        + df['text'] \n",
    "                        + pd.Series(['\\nSummary: \\n'] * len(df)) \n",
    "                        + df['summary']\n",
    "    )\n",
    "    dataset = Dataset.from_pandas(df[['total_text', 'reward']])\n",
    "    tokenizer_wrapper = TokenizeMapWrapper(tokenizer, 'total_text')\n",
    "\n",
    "    tokenized_dataset = (dataset\n",
    "                         .map(tokenizer_wrapper,\n",
    "                              batched=True,\n",
    "                              batch_size=128,\n",
    "                              num_proc=10\n",
    "                              )\n",
    "                         .remove_columns(['total_text'])\n",
    "                         )\n",
    "\n",
    "    tokenized_dataset_dict = tokenized_dataset.train_test_split(test_size=0.1, shuffle=True)\n",
    "    tokenized_dataset_dict.save_to_disk(tokenized_dataset_path)\n",
    "else:\n",
    "    tokenized_dataset_dict = load_from_disk(tokenized_dataset_path)"
   ]
  },
  {
   "attachments": {},
   "cell_type": "markdown",
   "metadata": {},
   "source": [
    "## Training"
   ]
  },
  {
   "cell_type": "code",
   "execution_count": null,
   "metadata": {},
   "outputs": [],
   "source": [
    "print(checkpoint)"
   ]
  },
  {
   "cell_type": "code",
   "execution_count": null,
   "metadata": {},
   "outputs": [],
   "source": [
    "training_args = TrainingArguments(\n",
    "    output_dir=\"./results\",\n",
    "    evaluation_strategy = \"epoch\",\n",
    "    learning_rate=learning_rate,\n",
    "    per_device_train_batch_size=64,\n",
    "    per_device_eval_batch_size=64,\n",
    "    num_train_epochs=NUM_EPOCHS,\n",
    "    weight_decay=decay,\n",
    "    report_to=\"tensorboard\",\n",
    "    push_to_hub=False,\n",
    ")\n",
    "\n",
    "trainer = Trainer(\n",
    "    model=model,\n",
    "    tokenizer=tokenizer,\n",
    "    args=training_args\n",
    ")"
   ]
  },
  {
   "cell_type": "code",
   "execution_count": null,
   "metadata": {},
   "outputs": [],
   "source": [
    "## finding the best parameters\n",
    "gc.collect()\n",
    "torch.cuda.empty_cache()\n",
    "\n",
    "total_loss = []\n",
    "epoch_loss = []\n",
    "batch_loss = []\n",
    "\n",
    "model.train()\n",
    "device = torch.device('cuda' if torch.cuda.is_available() else 'cpu')\n",
    "trainset = tokenized_dataset_dict['train'].with_format('torch', device=device)\n",
    "testset = tokenized_dataset_dict['test'].with_format('torch', device=device)\n",
    "dataloader = DataLoader(trainset, batch_size=12, shuffle=False) # TODO: Batch size 조절\n",
    "\n",
    "# TODO: Minor Hyperparameter Tuning\n",
    "criterion = MSELoss()\n",
    "optimizer = AdamW(model.parameters(), lr=learning_rate, weight_decay=decay)\n",
    "scheduler = get_linear_schedule_with_warmup(optimizer, num_warmup_steps=300, num_training_steps=NUM_EPOCHS * len(dataloader))\n",
    "training_stats = []"
   ]
  },
  {
   "cell_type": "code",
   "execution_count": null,
   "metadata": {},
   "outputs": [],
   "source": [
    "for epoch in range(NUM_EPOCHS):\n",
    "    total_steps = len(dataloader)\n",
    "    save_divisor = total_steps // MID_CHECKPOINT_NUM\n",
    "    print_divisor = total_steps // MID_PROCESS_PRINT_NUM\n",
    "    with tqdm(dataloader, leave=False, desc='Batch', position=0, postfix={'Epoch': 1, 'Batch': 1, 'loss': 0, 'loss_mean': 0}) as tqdm_bar:\n",
    "        for i, batch in enumerate(tqdm_bar):\n",
    "            tqdm_bar.set_description(f'Batch: {i + 1}')\n",
    "            X = {\n",
    "                    'input_ids': batch['input_ids'],\n",
    "                    'attention_mask': batch['attention_mask'],\n",
    "                }\n",
    "            y = batch['reward']\n",
    "\n",
    "            outputs = model(**X)\n",
    "            loss = criterion(outputs, y)\n",
    "            loss.backward()\n",
    "            optimizer.step()\n",
    "            optimizer.zero_grad()\n",
    "            scheduler.step()\n",
    "            batch_loss.append(loss.item())\n",
    "\n",
    "            if i % print_divisor == print_divisor - 1:\n",
    "                epoch_loss += batch_loss\n",
    "                batch_loss_series = pd.Series(batch_loss, dtype=np.float64)\n",
    "                training_stats.append(\n",
    "                    {\n",
    "                        'Epoch': epoch + 1,\n",
    "                        'Batch': i + 1,\n",
    "                        'loss': loss.item(),\n",
    "                        'loss_mean': batch_loss_series.mean()\n",
    "                    }\n",
    "                )\n",
    "                tqdm_bar.set_postfix(training_stats[-1])\n",
    "                batch_loss = []\n",
    "\n",
    "            if i % save_divisor == save_divisor - 1:\n",
    "                trainer.create_model_card(\n",
    "                    language='Korean',\n",
    "                    finetuned_from=checkpoint\n",
    "                )\n",
    "                trainer.save_model(model_save_path + checkpoint + f'-epoch-{epoch + 1}' + f'-batch-{i + 1}')\n",
    "\n",
    "            total_loss += epoch_loss\n",
    "            batch_loss_series = pd.Series(epoch_loss, dtype=np.float64)\n",
    "            epoch_loss = []"
   ]
  },
  {
   "cell_type": "code",
   "execution_count": null,
   "metadata": {},
   "outputs": [],
   "source": [
    "training_stats_df = pd.DataFrame(training_stats)\n",
    "training_stats_df.to_csv('./training_stats.csv')\n",
    "\n",
    "trainer.create_model_card(\n",
    "    language='Korean',\n",
    "    finetuned_from=checkpoint\n",
    ")\n",
    "trainer.save_model(model_save_path + '-final')"
   ]
  },
  {
   "attachments": {},
   "cell_type": "markdown",
   "metadata": {},
   "source": [
    "## Analysis"
   ]
  },
  {
   "cell_type": "code",
   "execution_count": null,
   "metadata": {},
   "outputs": [],
   "source": [
    "training_stats_df.describe()"
   ]
  },
  {
   "cell_type": "code",
   "execution_count": null,
   "metadata": {},
   "outputs": [],
   "source": [
    "total_loss = pd.Series(total_loss)\n",
    "total_loss.plot.line()"
   ]
  },
  {
   "cell_type": "code",
   "execution_count": null,
   "metadata": {},
   "outputs": [],
   "source": [
    "training_stats_df['loss_mean'].plot.line()"
   ]
  },
  {
   "cell_type": "code",
   "execution_count": null,
   "metadata": {},
   "outputs": [],
   "source": [
    "training_stats_df[['BLEU', 'ROUGE']].plot.line()"
   ]
  }
 ],
 "metadata": {
  "kernelspec": {
   "display_name": "Python 3",
   "language": "python",
   "name": "python3"
  },
  "language_info": {
   "codemirror_mode": {
    "name": "ipython",
    "version": 3
   },
   "file_extension": ".py",
   "mimetype": "text/x-python",
   "name": "python",
   "nbconvert_exporter": "python",
   "pygments_lexer": "ipython3",
   "version": "3.10.6"
  },
  "orig_nbformat": 4
 },
 "nbformat": 4,
 "nbformat_minor": 2
}
