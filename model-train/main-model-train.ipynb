{
  "cells": [
    {
      "attachments": {},
      "cell_type": "markdown",
      "metadata": {
        "colab_type": "text",
        "id": "view-in-github"
      },
      "source": [
        "<a href=\"https://colab.research.google.com/github/SOL1archive/ClauseSummary/blob/main/main_model_train.ipynb\" target=\"_parent\"><img src=\"https://colab.research.google.com/assets/colab-badge.svg\" alt=\"Open In Colab\"/></a>"
      ]
    },
    {
      "cell_type": "code",
      "execution_count": null,
      "metadata": {
        "colab": {
          "base_uri": "https://localhost:8080/",
          "height": 35
        },
        "id": "MWgJmALSfMI2",
        "outputId": "3aecf45e-0cd3-43de-e23f-6669c2c86c3e"
      },
      "outputs": [],
      "source": [
        "try:\n",
        "  import google.colab\n",
        "  IN_COLAB = True\n",
        "except:\n",
        "  IN_COLAB = False\n",
        "\n",
        "'Process in Colab' if IN_COLAB else 'Process in Local'"
      ]
    },
    {
      "cell_type": "code",
      "execution_count": null,
      "metadata": {
        "colab": {
          "base_uri": "https://localhost:8080/"
        },
        "id": "2PR27N0HfMI4",
        "outputId": "8e93fcb0-4a22-40f7-fc3a-335e40591f86"
      },
      "outputs": [],
      "source": [
        "if IN_COLAB:\n",
        "    !pip install transformers\n",
        "    !pip install datasets\n",
        "    !pip install evaluate\n",
        "    !pip install rouge_score\n",
        "    !pip install torchmetrics\n",
        "    !pip install rouge\n",
        "    !pip install --upgrade accelerate"
      ]
    },
    {
      "cell_type": "code",
      "execution_count": null,
      "metadata": {
        "colab": {
          "base_uri": "https://localhost:8080/"
        },
        "id": "Yt4-ma3vfMI4",
        "outputId": "a366e1db-4c22-4e28-89c4-d2a580a3c21c"
      },
      "outputs": [],
      "source": [
        "if IN_COLAB:\n",
        "    from google.colab import drive\n",
        "    drive.mount('/content/drive/')"
      ]
    },
    {
      "cell_type": "code",
      "execution_count": null,
      "metadata": {
        "colab": {
          "base_uri": "https://localhost:8080/"
        },
        "id": "My0Nr3cZf-Kz",
        "outputId": "d522e5d1-2ab4-4a0d-96d2-eeb90844774b"
      },
      "outputs": [],
      "source": [
        "# 깃허브에서는 빼야됨\n",
        "%cd drive/MyDrive/projects/ClauseSummary"
      ]
    },
    {
      "cell_type": "code",
      "execution_count": null,
      "metadata": {
        "id": "bubQc3pCfMI5"
      },
      "outputs": [],
      "source": [
        "import warnings\n",
        "import datetime\n",
        "import os\n",
        "import gc\n",
        "from pprint import pprint\n",
        "from tqdm import tqdm\n",
        "\n",
        "import numpy as np\n",
        "import pandas as pd\n",
        "\n",
        "import tensorboard\n",
        "import torch\n",
        "import torch.nn as nn\n",
        "import torch.nn.functional as F\n",
        "from torch.nn.utils.rnn import pad_sequence\n",
        "from torch.utils.data import DataLoader\n",
        "from torch.nn import CrossEntropyLoss\n",
        "from torch.optim import AdamW\n",
        "from torch.optim.lr_scheduler import StepLR, ReduceLROnPlateau, CosineAnnealingLR, CyclicLR\n",
        "import torchmetrics\n",
        "\n",
        "from datasets import load_dataset, load_from_disk, concatenate_datasets, DatasetDict, Dataset\n",
        "from transformers import get_linear_schedule_with_warmup\n",
        "from transformers import DataCollatorForSeq2Seq\n",
        "from transformers import BartConfig, T5Config, LongformerConfig\n",
        "from transformers import AutoTokenizer, LongformerTokenizer, AutoModelForSeq2SeqLM, LongT5ForConditionalGeneration\n",
        "from transformers import Seq2SeqTrainingArguments, Seq2SeqTrainer\n",
        "import evaluate\n",
        "from nltk.translate.bleu_score import sentence_bleu, SmoothingFunction\n",
        "from rouge import Rouge\n",
        "\n",
        "import matplotlib as mpl\n",
        "import matplotlib.pyplot as plt\n",
        "%matplotlib inline\n",
        "\n",
        "import seaborn as sns"
      ]
    },
    {
      "cell_type": "code",
      "execution_count": null,
      "metadata": {
        "id": "-TSsz3ESfMI5"
      },
      "outputs": [],
      "source": [
        "class TokenizeMapWrapper:\n",
        "    def __init__(self, tokenizer, feature, option=None):\n",
        "        if option is None:\n",
        "            option = {\n",
        "                'max_length': 512,\n",
        "                'truncation': True,\n",
        "                'padding': 'max_length',\n",
        "            }\n",
        "\n",
        "        self.option = option\n",
        "        self.feature = feature\n",
        "        self.tokenizer = tokenizer\n",
        "\n",
        "    def __call__(self, row):\n",
        "        return self.tokenizer(row[self.feature], **self.option)\n",
        "\n",
        "    def __repr__(self):\n",
        "        return f'{self.__class__.__name__}(tokenizer={self.tokenizer})'\n",
        "\n",
        "class Seq2SeqTokenizeMapWrapper(TokenizeMapWrapper):\n",
        "    def __init__(self, tokenizer, feature, target, option=None):\n",
        "        super().__init__(tokenizer, feature, option)\n",
        "        self.target = target\n",
        "\n",
        "    def seq2seq_tokenize(self, row):\n",
        "        form_embeddings = self.tokenizer(row[self.feature], **self.option)\n",
        "        with self.tokenizer.as_target_tokenizer():\n",
        "            correct_form_embeddings = self.tokenizer(row[self.target], **self.option)\n",
        "\n",
        "        return {\n",
        "            'input_ids': form_embeddings['input_ids'],\n",
        "            'attention_mask': form_embeddings['attention_mask'],\n",
        "            'labels': correct_form_embeddings['input_ids'],\n",
        "        }\n",
        "\n",
        "    def __call__(self, row):\n",
        "        return self.seq2seq_tokenize(row)"
      ]
    },
    {
      "attachments": {},
      "cell_type": "markdown",
      "metadata": {
        "id": "S8dFz3zAfMI5"
      },
      "source": [
        "## Setting\n",
        "\n",
        "- 학습 환경에 맞게 조정하기 (특히 **경로 설정**)"
      ]
    },
    {
      "cell_type": "code",
      "execution_count": null,
      "metadata": {
        "id": "hV_gm5svfMI6"
      },
      "outputs": [],
      "source": [
        "MANUAL_TRAINING = True\n",
        "MANUAL_VALIDATION = True\n",
        "MID_CHECKPOINT_NUM = 2\n",
        "MID_PROCESS_PRINT_NUM = 200\n",
        "\n",
        "NUM_EPOCHS = 1\n",
        "learning_rate = 2e-5\n",
        "decay = 0.01"
      ]
    },
    {
      "cell_type": "code",
      "execution_count": null,
      "metadata": {
        "colab": {
          "base_uri": "https://localhost:8080/"
        },
        "id": "uxst3tGKfMI7",
        "outputId": "a1e9c715-e79b-4e9a-e183-77fb54914880"
      },
      "outputs": [],
      "source": [
        "t5_large_summary_checkpoint = 'lcw99/t5-large-korean-text-summary'\n",
        "t5_base_summary_checkpoint = 'eenzeenee/t5-base-korean-summarization'\n",
        "kobart_summary_checkpoint = 'gogamza/kobart-summarization'\n",
        "kolongformer = \"psyche/kolongformer-4096\"\n",
        "longt5_checkpoint = 'KETI-AIR-Downstream/long-ke-t5-base-summarization'\n",
        "checkpoint = longt5_checkpoint\n",
        "print(f'Using Checkpoint: {checkpoint}')"
      ]
    },
    {
      "cell_type": "code",
      "execution_count": null,
      "metadata": {
        "id": "UHSgjDWSfMI7"
      },
      "outputs": [],
      "source": [
        "original_dataset_path = './data/dataset-term-summary.json'\n",
        "tokenized_dataset_path = f'./data/{checkpoint.replace(\"/\", \"-\")}-tokenized-dataset'"
      ]
    },
    {
      "cell_type": "code",
      "execution_count": null,
      "metadata": {
        "id": "UQVJqEadfMI7"
      },
      "outputs": [],
      "source": [
        "SAVE_STR = datetime.datetime.now().strftime('%y%m%d-%H:%M')\n",
        "model_save_path = f\"./model/{SAVE_STR}\""
      ]
    },
    {
      "attachments": {},
      "cell_type": "markdown",
      "metadata": {
        "id": "k-Y11jgZfMI7"
      },
      "source": [
        "## Load Tokenizer & Model Checkpoint"
      ]
    },
    {
      "cell_type": "code",
      "execution_count": null,
      "metadata": {
        "id": "VXVVhDgMfMI8"
      },
      "outputs": [],
      "source": [
        "if 'bart' in checkpoint.lower():\n",
        "    config = BartConfig.from_pretrained(checkpoint)\n",
        "    #config['vocab'] = 30000\n",
        "elif \"t5\" in checkpoint.lower():\n",
        "    config = T5Config.from_pretrained(checkpoint)\n",
        "elif \"longformer\" in checkpoint.lower():\n",
        "    config = LongformerConfig.from_pretrained(checkpoint)"
      ]
    },
    {
      "cell_type": "code",
      "execution_count": null,
      "metadata": {
        "colab": {
          "base_uri": "https://localhost:8080/",
          "height": 81,
          "referenced_widgets": [
            "9c664d0b1df2458dbe58938e27a507b6",
            "31a5bff31dc94f3ab5b59496a8e15c06",
            "277a039ad75146f7a415f430bb5dd5d0",
            "a41884f025224d1b9973ac5750167b31",
            "a8d5fd282c9642e3b6b164001711d042",
            "f138359cc0c244dea9c04af9b02c9592",
            "a9d1dd4efced48f4acbfef14e21284c4",
            "8c621ef0bee0409a914382513f2266c8",
            "25e871089e0b41fa9f082b520dc22580",
            "e05352eddf924ba8a20bb07f81a47053",
            "7eb99d85c25245d99f857d8bf4c66e52",
            "a8ea5e564a3b47ff8b1e064f9e80377b",
            "b8d918bfc8244d3aa680c0545a5a583c",
            "15f74eebac894be79707920e962f35be",
            "26396dcba07e4771bb32f70630f56e5e",
            "b5e706447b6f4efc800f1e1586d8b4a0",
            "efee5ac968bc4b5a991b0424fe733cd8",
            "70929e37e1dd45248df458c3ef9be859",
            "249c13bcb0a948d68e62d0d83a21e5ae",
            "b66c072d6ecf43cca1086b2630d63695",
            "2d701d60fe1e40b596372a53a30e148e",
            "f6489e83fc0e4be781ac901ba5a0f8c7"
          ]
        },
        "id": "lsdQeOO_fMI8",
        "outputId": "084c2b55-d0b4-4f21-cd6c-b735d45e8169"
      },
      "outputs": [],
      "source": [
        "tokenizer = AutoTokenizer.from_pretrained(checkpoint,\n",
        "                                          max_length=4096,\n",
        "                                          truncation=False,\n",
        "                                          padding='max_length',\n",
        "                                          #vocab=config.vocab_size\n",
        "                                          )\n",
        "#tokenizer = LongformerTokenizer(vocab_file, merges_file, errors='replace', bos_token='<s>', eos_token='</s>', sep_token='</s>', cls_token='<s>', unk_token='<unk>', pad_token='<pad>', mask_token='<mask>', add_prefix_space=False, **kwargs)\n",
        "\n",
        "model = AutoModelForSeq2SeqLM.from_pretrained(checkpoint)"
      ]
    },
    {
      "cell_type": "code",
      "execution_count": null,
      "metadata": {
        "id": "uR1-03QMfMI8"
      },
      "outputs": [],
      "source": [
        "if len(tokenizer) != model.config.vocab_size:\n",
        "    raise RuntimeError(f'Tokenizer vocab size and model vocab size do not match(Tokenizer:{len(tokenizer)} Model: {model.config.vocab_size}). Which would lead to further error in training.')"
      ]
    },
    {
      "attachments": {},
      "cell_type": "markdown",
      "metadata": {
        "id": "dsahbR7qfMI8"
      },
      "source": [
        "## Load Dataset"
      ]
    },
    {
      "cell_type": "code",
      "execution_count": null,
      "metadata": {
        "id": "SjmBE4GtfMI8"
      },
      "outputs": [],
      "source": [
        "if not os.path.exists(tokenized_dataset_path):\n",
        "    dataset = Dataset.from_pandas(pd.read_json(original_dataset_path, encoding='utf-8')[['text', 'summary']])\n",
        "    tokenizer_wrapper = Seq2SeqTokenizeMapWrapper(tokenizer, 'text', 'summary')\n",
        "\n",
        "    tokenized_dataset = (dataset\n",
        "                         .map(tokenizer_wrapper,\n",
        "                              batched=True,\n",
        "                              batch_size=128,\n",
        "                              num_proc=10\n",
        "                              )\n",
        "                         .remove_columns(['text', 'summary'])\n",
        "                         )\n",
        "\n",
        "    tokenized_dataset_dict = tokenized_dataset.train_test_split(test_size=0.2, shuffle=True)\n",
        "    tokenized_dataset_dict.save_to_disk(tokenized_dataset_path)\n",
        "else:\n",
        "    tokenized_dataset_dict = load_from_disk(tokenized_dataset_path)"
      ]
    },
    {
      "attachments": {},
      "cell_type": "markdown",
      "metadata": {
        "id": "la5Z0jvzfMI9"
      },
      "source": [
        "## Training"
      ]
    },
    {
      "cell_type": "code",
      "execution_count": null,
      "metadata": {
        "colab": {
          "base_uri": "https://localhost:8080/"
        },
        "id": "X6Pu0iNBYhvN",
        "outputId": "362a2a9f-b8f5-49a3-e3ff-159614e5b5af"
      },
      "outputs": [],
      "source": [
        "print(checkpoint)"
      ]
    },
    {
      "cell_type": "code",
      "execution_count": null,
      "metadata": {
        "id": "hBCCNEn72n0H"
      },
      "outputs": [],
      "source": [
        "def generate_seq(model, tokenizer, input):\n",
        "    generated_ids = model.generate(**input)\n",
        "    generated_text = tokenizer.decode(generated_ids.squeeze(0), skip_special_tokens=True)\n",
        "\n",
        "    return generated_text\n",
        "\n",
        "def generate_input_target(model, tokenizer, input, label):\n",
        "    input_text = tokenizer.decode(input['input_ids'].squeeze(0), skip_special_tokens=True)\n",
        "    generated_text = generate_seq(model, tokenizer, input)\n",
        "    target_text = tokenizer.decode(label.squeeze(0), skip_special_tokens=True)\n",
        "\n",
        "    return {\n",
        "        'input_text': input_text,\n",
        "        'generated_text': generated_text,\n",
        "        'target_text': target_text\n",
        "    }\n",
        "\n",
        "def generate_from_data(model, tokenizer, data):\n",
        "    label = data['labels']\n",
        "    input_data = dict()\n",
        "    input_data['input_ids'] = data['input_ids']\n",
        "    input_data['attention_mask'] = data['attention_mask']\n",
        "\n",
        "    return generate_input_target(model, tokenizer, input_data, label)\n",
        "\n",
        "def eval_bleu(model, tokenizer, tokenized_testset):\n",
        "    bleu_score_lt = []\n",
        "    for example in tokenized_testset:\n",
        "        data = dict()\n",
        "        for key in example:\n",
        "            data[key] = example[key].unsqueeze(0)\n",
        "\n",
        "        output = generate_from_data(model, tokenizer, data)\n",
        "        try:\n",
        "            bleu_score = sentence_bleu([output['target_text']],\n",
        "                                       output['generated_text'],\n",
        "                                       smoothing_function=SmoothingFunction().method1\n",
        "            )\n",
        "        except ValueError:\n",
        "            continue\n",
        "        bleu_score_lt.append(bleu_score)\n",
        "\n",
        "    return pd.DataFrame({'BLEU': bleu_score_lt})\n",
        "\n",
        "def eval_rogue(model, tokenizer, tokenized_testset):\n",
        "    rouge = Rouge()\n",
        "    rouge_score_dict = dict()\n",
        "    rouge_score_dict['Precision'] = []\n",
        "    rouge_score_dict['Recall'] = []\n",
        "    rouge_score_dict['F1'] = []\n",
        "\n",
        "    for example in tokenized_testset:\n",
        "        data = dict()\n",
        "        for key in example:\n",
        "            data[key] = example[key].unsqueeze(0)\n",
        "        output = generate_from_data(model, tokenizer, data)\n",
        "        try:\n",
        "            rouge_score = rouge.get_scores(output['generated_text'],\n",
        "                                           output['target_text']\n",
        "            )\n",
        "        except ValueError:\n",
        "            continue\n",
        "        rouge_score_precision = rouge_score[0]['rouge-2']['p']\n",
        "        rouge_score_recall = rouge_score[0]['rouge-2']['r']\n",
        "        rouge_score_f = rouge_score[0]['rouge-2']['f']\n",
        "\n",
        "        rouge_score_dict['Precision'].append(rouge_score_precision)\n",
        "        rouge_score_dict['Recall'].append(rouge_score_recall)\n",
        "        rouge_score_dict['F1'].append(rouge_score_f)\n",
        "\n",
        "    return pd.DataFrame(rouge_score_dict)"
      ]
    },
    {
      "cell_type": "code",
      "execution_count": null,
      "metadata": {},
      "outputs": [],
      "source": [
        "# Utils\n",
        "def dict_to_str(d):\n",
        "    return '\\t'.join([f'{k}: {v}' for k, v in d.items()])"
      ]
    },
    {
      "cell_type": "code",
      "execution_count": null,
      "metadata": {},
      "outputs": [],
      "source": [
        "training_args = Seq2SeqTrainingArguments(\n",
        "    output_dir=\"./results\",\n",
        "    evaluation_strategy = \"epoch\",\n",
        "    learning_rate=learning_rate,\n",
        "    per_device_train_batch_size=64,\n",
        "    per_device_eval_batch_size=64,\n",
        "    num_train_epochs=NUM_EPOCHS,\n",
        "    weight_decay=decay,\n",
        "    report_to=\"tensorboard\",\n",
        "    push_to_hub=False,\n",
        ")\n",
        "\n",
        "trainer = Seq2SeqTrainer(\n",
        "    model=model,\n",
        "    args=training_args\n",
        ")"
      ]
    },
    {
      "cell_type": "code",
      "execution_count": null,
      "metadata": {},
      "outputs": [],
      "source": [
        "## finding the best parameters\n",
        "gc.collect()\n",
        "torch.cuda.empty_cache()\n",
        "\n",
        "total_loss = []\n",
        "epoch_loss = []\n",
        "batch_loss = []\n",
        "\n",
        "device = torch.device('cuda' if torch.cuda.is_available() else 'cpu')\n",
        "trainset = tokenized_dataset_dict['train'].with_format('torch', device=device)\n",
        "testset = tokenized_dataset_dict['test'].with_format('torch', device=device)\n",
        "dataloader = DataLoader(trainset, batch_size=4, shuffle=False) # TODO: Batch size 조절\n",
        "\n",
        "# TODO: Write a code for **Hyperparameter Tuning**\n",
        "optimizer = AdamW(model.parameters(), lr=learning_rate, weight_decay=decay)\n",
        "scheduler = get_linear_schedule_with_warmup(optimizer, num_warmup_steps=1000, num_training_steps=NUM_EPOCHS * len(dataloader))\n",
        "training_stats = []"
      ]
    },
    {
      "cell_type": "code",
      "execution_count": null,
      "metadata": {
        "colab": {
          "base_uri": "https://localhost:8080/",
          "height": 1000
        },
        "id": "mlTAoWk9CX2F",
        "outputId": "632ae5dc-1e5b-45be-f86f-d3b1f7c917d8"
      },
      "outputs": [],
      "source": [
        "for epoch in range(NUM_EPOCHS):\n",
        "    total_steps = len(dataloader)\n",
        "    save_divisor = total_steps // MID_CHECKPOINT_NUM\n",
        "    print_divisor = total_steps // MID_PROCESS_PRINT_NUM\n",
        "    with tqdm(dataloader) as tqdm_bar:\n",
        "        for i, batch in enumerate(tqdm_bar):\n",
        "            X = {\n",
        "                    'input_ids': batch['input_ids'],\n",
        "                    'attention_mask': batch['attention_mask'],\n",
        "                }\n",
        "            y = batch['labels']\n",
        "\n",
        "            outputs = model(**X, labels=y)\n",
        "            loss = outputs.loss\n",
        "            loss.backward()\n",
        "            optimizer.step()\n",
        "            optimizer.zero_grad()\n",
        "            scheduler.step()\n",
        "            batch_loss.append(loss.item())\n",
        "            \n",
        "            if i % print_divisor == print_divisor - 1:\n",
        "                epoch_loss += batch_loss\n",
        "                batch_loss_series = pd.Series(batch_loss)\n",
        "                bleu_metric = eval_bleu(model, tokenizer, testset)\n",
        "                rouge_metric = eval_rogue(model, tokenizer, testset)\n",
        "                training_stats.append(\n",
        "                    {\n",
        "                        'epoch': epoch + 1,\n",
        "                        'batch': i + 1,\n",
        "                        'loss': loss.item(),\n",
        "                        'loss_mean': batch_loss_series.mean(),\n",
        "                        'BLEU': bleu_metric['BLEU'].mean(),\n",
        "                        'ROUGE': rouge_metric['F1'].mean()\n",
        "                    }\n",
        "                )\n",
        "                tqdm_bar.set_description(dict_to_str(training_stats[-1]))\n",
        "                batch_loss = []\n",
        "\n",
        "            if i % save_divisor == save_divisor - 1:\n",
        "                trainer.create_model_card(\n",
        "                    language='Korean',\n",
        "                    finetuned_from=checkpoint\n",
        "                )\n",
        "                trainer.save_model(model_save_path + checkpoint + f'-epoch-{epoch + 1}' + f'-batch-{i + 1}')\n",
        "\n",
        "            total_loss += epoch_loss\n",
        "            batch_loss_series = pd.Series(epoch_loss)\n",
        "            epoch_loss = []"
      ]
    },
    {
      "cell_type": "code",
      "execution_count": null,
      "metadata": {},
      "outputs": [],
      "source": [
        "bleu_metric = eval_bleu(model, tokenizer, testset)\n",
        "rouge_metric = eval_rogue(model, tokenizer, testset)\n",
        "metric_df = pd.concat([bleu_metric, rouge_metric], axis=1)\n",
        "metric_df.to_csv('./metric.csv')\n",
        "\n",
        "training_stats_df = pd.DataFrame(training_stats)\n",
        "training_stats_df.to_csv('./training_stats.csv')\n",
        "\n",
        "trainer.create_model_card(\n",
        "    language='Korean',\n",
        "    finetuned_from=checkpoint\n",
        ")\n",
        "trainer.save_model(model_save_path + '-final')"
      ]
    },
    {
      "attachments": {},
      "cell_type": "markdown",
      "metadata": {
        "id": "GItpvbJjlINj"
      },
      "source": [
        "## Analysis"
      ]
    },
    {
      "cell_type": "code",
      "execution_count": null,
      "metadata": {},
      "outputs": [],
      "source": [
        "training_stats_df.describe()"
      ]
    },
    {
      "cell_type": "code",
      "execution_count": null,
      "metadata": {
        "colab": {
          "base_uri": "https://localhost:8080/",
          "height": 206
        },
        "id": "XVLeLjxylOg8",
        "outputId": "fc117c44-827b-41ba-c4a9-1c678c832bc2"
      },
      "outputs": [],
      "source": [
        "total_loss = pd.Series(total_loss)\n",
        "total_loss.plot.line()"
      ]
    },
    {
      "cell_type": "code",
      "execution_count": null,
      "metadata": {
        "id": "1P6A_W2W1u8K"
      },
      "outputs": [],
      "source": [
        "training_stats_df['loss_mean'].plot.line()"
      ]
    },
    {
      "cell_type": "code",
      "execution_count": null,
      "metadata": {},
      "outputs": [],
      "source": [
        "training_stats_df[['BLEU', 'ROUGE']].plot.line()"
      ]
    }
  ],
  "metadata": {
    "accelerator": "GPU",
    "colab": {
      "gpuType": "T4",
      "include_colab_link": true,
      "provenance": []
    },
    "kernelspec": {
      "display_name": "Python 3",
      "name": "python3"
    },
    "language_info": {
      "name": "python"
    },
    "widgets": {
      "application/vnd.jupyter.widget-state+json": {
        "15f74eebac894be79707920e962f35be": {
          "model_module": "@jupyter-widgets/controls",
          "model_module_version": "1.5.0",
          "model_name": "FloatProgressModel",
          "state": {
            "_dom_classes": [],
            "_model_module": "@jupyter-widgets/controls",
            "_model_module_version": "1.5.0",
            "_model_name": "FloatProgressModel",
            "_view_count": null,
            "_view_module": "@jupyter-widgets/controls",
            "_view_module_version": "1.5.0",
            "_view_name": "ProgressView",
            "bar_style": "success",
            "description": "",
            "description_tooltip": null,
            "layout": "IPY_MODEL_249c13bcb0a948d68e62d0d83a21e5ae",
            "max": 1186882355,
            "min": 0,
            "orientation": "horizontal",
            "style": "IPY_MODEL_b66c072d6ecf43cca1086b2630d63695",
            "value": 1186882355
          }
        },
        "249c13bcb0a948d68e62d0d83a21e5ae": {
          "model_module": "@jupyter-widgets/base",
          "model_module_version": "1.2.0",
          "model_name": "LayoutModel",
          "state": {
            "_model_module": "@jupyter-widgets/base",
            "_model_module_version": "1.2.0",
            "_model_name": "LayoutModel",
            "_view_count": null,
            "_view_module": "@jupyter-widgets/base",
            "_view_module_version": "1.2.0",
            "_view_name": "LayoutView",
            "align_content": null,
            "align_items": null,
            "align_self": null,
            "border": null,
            "bottom": null,
            "display": null,
            "flex": null,
            "flex_flow": null,
            "grid_area": null,
            "grid_auto_columns": null,
            "grid_auto_flow": null,
            "grid_auto_rows": null,
            "grid_column": null,
            "grid_gap": null,
            "grid_row": null,
            "grid_template_areas": null,
            "grid_template_columns": null,
            "grid_template_rows": null,
            "height": null,
            "justify_content": null,
            "justify_items": null,
            "left": null,
            "margin": null,
            "max_height": null,
            "max_width": null,
            "min_height": null,
            "min_width": null,
            "object_fit": null,
            "object_position": null,
            "order": null,
            "overflow": null,
            "overflow_x": null,
            "overflow_y": null,
            "padding": null,
            "right": null,
            "top": null,
            "visibility": null,
            "width": null
          }
        },
        "25e871089e0b41fa9f082b520dc22580": {
          "model_module": "@jupyter-widgets/controls",
          "model_module_version": "1.5.0",
          "model_name": "ProgressStyleModel",
          "state": {
            "_model_module": "@jupyter-widgets/controls",
            "_model_module_version": "1.5.0",
            "_model_name": "ProgressStyleModel",
            "_view_count": null,
            "_view_module": "@jupyter-widgets/base",
            "_view_module_version": "1.2.0",
            "_view_name": "StyleView",
            "bar_color": null,
            "description_width": ""
          }
        },
        "26396dcba07e4771bb32f70630f56e5e": {
          "model_module": "@jupyter-widgets/controls",
          "model_module_version": "1.5.0",
          "model_name": "HTMLModel",
          "state": {
            "_dom_classes": [],
            "_model_module": "@jupyter-widgets/controls",
            "_model_module_version": "1.5.0",
            "_model_name": "HTMLModel",
            "_view_count": null,
            "_view_module": "@jupyter-widgets/controls",
            "_view_module_version": "1.5.0",
            "_view_name": "HTMLView",
            "description": "",
            "description_tooltip": null,
            "layout": "IPY_MODEL_2d701d60fe1e40b596372a53a30e148e",
            "placeholder": "​",
            "style": "IPY_MODEL_f6489e83fc0e4be781ac901ba5a0f8c7",
            "value": " 1.19G/1.19G [00:23&lt;00:00, 44.9MB/s]"
          }
        },
        "277a039ad75146f7a415f430bb5dd5d0": {
          "model_module": "@jupyter-widgets/controls",
          "model_module_version": "1.5.0",
          "model_name": "FloatProgressModel",
          "state": {
            "_dom_classes": [],
            "_model_module": "@jupyter-widgets/controls",
            "_model_module_version": "1.5.0",
            "_model_name": "FloatProgressModel",
            "_view_count": null,
            "_view_module": "@jupyter-widgets/controls",
            "_view_module_version": "1.5.0",
            "_view_name": "ProgressView",
            "bar_style": "success",
            "description": "",
            "description_tooltip": null,
            "layout": "IPY_MODEL_8c621ef0bee0409a914382513f2266c8",
            "max": 924,
            "min": 0,
            "orientation": "horizontal",
            "style": "IPY_MODEL_25e871089e0b41fa9f082b520dc22580",
            "value": 924
          }
        },
        "2d701d60fe1e40b596372a53a30e148e": {
          "model_module": "@jupyter-widgets/base",
          "model_module_version": "1.2.0",
          "model_name": "LayoutModel",
          "state": {
            "_model_module": "@jupyter-widgets/base",
            "_model_module_version": "1.2.0",
            "_model_name": "LayoutModel",
            "_view_count": null,
            "_view_module": "@jupyter-widgets/base",
            "_view_module_version": "1.2.0",
            "_view_name": "LayoutView",
            "align_content": null,
            "align_items": null,
            "align_self": null,
            "border": null,
            "bottom": null,
            "display": null,
            "flex": null,
            "flex_flow": null,
            "grid_area": null,
            "grid_auto_columns": null,
            "grid_auto_flow": null,
            "grid_auto_rows": null,
            "grid_column": null,
            "grid_gap": null,
            "grid_row": null,
            "grid_template_areas": null,
            "grid_template_columns": null,
            "grid_template_rows": null,
            "height": null,
            "justify_content": null,
            "justify_items": null,
            "left": null,
            "margin": null,
            "max_height": null,
            "max_width": null,
            "min_height": null,
            "min_width": null,
            "object_fit": null,
            "object_position": null,
            "order": null,
            "overflow": null,
            "overflow_x": null,
            "overflow_y": null,
            "padding": null,
            "right": null,
            "top": null,
            "visibility": null,
            "width": null
          }
        },
        "31a5bff31dc94f3ab5b59496a8e15c06": {
          "model_module": "@jupyter-widgets/controls",
          "model_module_version": "1.5.0",
          "model_name": "HTMLModel",
          "state": {
            "_dom_classes": [],
            "_model_module": "@jupyter-widgets/controls",
            "_model_module_version": "1.5.0",
            "_model_name": "HTMLModel",
            "_view_count": null,
            "_view_module": "@jupyter-widgets/controls",
            "_view_module_version": "1.5.0",
            "_view_name": "HTMLView",
            "description": "",
            "description_tooltip": null,
            "layout": "IPY_MODEL_f138359cc0c244dea9c04af9b02c9592",
            "placeholder": "​",
            "style": "IPY_MODEL_a9d1dd4efced48f4acbfef14e21284c4",
            "value": "Downloading (…)lve/main/config.json: 100%"
          }
        },
        "70929e37e1dd45248df458c3ef9be859": {
          "model_module": "@jupyter-widgets/controls",
          "model_module_version": "1.5.0",
          "model_name": "DescriptionStyleModel",
          "state": {
            "_model_module": "@jupyter-widgets/controls",
            "_model_module_version": "1.5.0",
            "_model_name": "DescriptionStyleModel",
            "_view_count": null,
            "_view_module": "@jupyter-widgets/base",
            "_view_module_version": "1.2.0",
            "_view_name": "StyleView",
            "description_width": ""
          }
        },
        "7eb99d85c25245d99f857d8bf4c66e52": {
          "model_module": "@jupyter-widgets/controls",
          "model_module_version": "1.5.0",
          "model_name": "DescriptionStyleModel",
          "state": {
            "_model_module": "@jupyter-widgets/controls",
            "_model_module_version": "1.5.0",
            "_model_name": "DescriptionStyleModel",
            "_view_count": null,
            "_view_module": "@jupyter-widgets/base",
            "_view_module_version": "1.2.0",
            "_view_name": "StyleView",
            "description_width": ""
          }
        },
        "8c621ef0bee0409a914382513f2266c8": {
          "model_module": "@jupyter-widgets/base",
          "model_module_version": "1.2.0",
          "model_name": "LayoutModel",
          "state": {
            "_model_module": "@jupyter-widgets/base",
            "_model_module_version": "1.2.0",
            "_model_name": "LayoutModel",
            "_view_count": null,
            "_view_module": "@jupyter-widgets/base",
            "_view_module_version": "1.2.0",
            "_view_name": "LayoutView",
            "align_content": null,
            "align_items": null,
            "align_self": null,
            "border": null,
            "bottom": null,
            "display": null,
            "flex": null,
            "flex_flow": null,
            "grid_area": null,
            "grid_auto_columns": null,
            "grid_auto_flow": null,
            "grid_auto_rows": null,
            "grid_column": null,
            "grid_gap": null,
            "grid_row": null,
            "grid_template_areas": null,
            "grid_template_columns": null,
            "grid_template_rows": null,
            "height": null,
            "justify_content": null,
            "justify_items": null,
            "left": null,
            "margin": null,
            "max_height": null,
            "max_width": null,
            "min_height": null,
            "min_width": null,
            "object_fit": null,
            "object_position": null,
            "order": null,
            "overflow": null,
            "overflow_x": null,
            "overflow_y": null,
            "padding": null,
            "right": null,
            "top": null,
            "visibility": null,
            "width": null
          }
        },
        "9c664d0b1df2458dbe58938e27a507b6": {
          "model_module": "@jupyter-widgets/controls",
          "model_module_version": "1.5.0",
          "model_name": "HBoxModel",
          "state": {
            "_dom_classes": [],
            "_model_module": "@jupyter-widgets/controls",
            "_model_module_version": "1.5.0",
            "_model_name": "HBoxModel",
            "_view_count": null,
            "_view_module": "@jupyter-widgets/controls",
            "_view_module_version": "1.5.0",
            "_view_name": "HBoxView",
            "box_style": "",
            "children": [
              "IPY_MODEL_31a5bff31dc94f3ab5b59496a8e15c06",
              "IPY_MODEL_277a039ad75146f7a415f430bb5dd5d0",
              "IPY_MODEL_a41884f025224d1b9973ac5750167b31"
            ],
            "layout": "IPY_MODEL_a8d5fd282c9642e3b6b164001711d042"
          }
        },
        "a41884f025224d1b9973ac5750167b31": {
          "model_module": "@jupyter-widgets/controls",
          "model_module_version": "1.5.0",
          "model_name": "HTMLModel",
          "state": {
            "_dom_classes": [],
            "_model_module": "@jupyter-widgets/controls",
            "_model_module_version": "1.5.0",
            "_model_name": "HTMLModel",
            "_view_count": null,
            "_view_module": "@jupyter-widgets/controls",
            "_view_module_version": "1.5.0",
            "_view_name": "HTMLView",
            "description": "",
            "description_tooltip": null,
            "layout": "IPY_MODEL_e05352eddf924ba8a20bb07f81a47053",
            "placeholder": "​",
            "style": "IPY_MODEL_7eb99d85c25245d99f857d8bf4c66e52",
            "value": " 924/924 [00:00&lt;00:00, 28.5kB/s]"
          }
        },
        "a8d5fd282c9642e3b6b164001711d042": {
          "model_module": "@jupyter-widgets/base",
          "model_module_version": "1.2.0",
          "model_name": "LayoutModel",
          "state": {
            "_model_module": "@jupyter-widgets/base",
            "_model_module_version": "1.2.0",
            "_model_name": "LayoutModel",
            "_view_count": null,
            "_view_module": "@jupyter-widgets/base",
            "_view_module_version": "1.2.0",
            "_view_name": "LayoutView",
            "align_content": null,
            "align_items": null,
            "align_self": null,
            "border": null,
            "bottom": null,
            "display": null,
            "flex": null,
            "flex_flow": null,
            "grid_area": null,
            "grid_auto_columns": null,
            "grid_auto_flow": null,
            "grid_auto_rows": null,
            "grid_column": null,
            "grid_gap": null,
            "grid_row": null,
            "grid_template_areas": null,
            "grid_template_columns": null,
            "grid_template_rows": null,
            "height": null,
            "justify_content": null,
            "justify_items": null,
            "left": null,
            "margin": null,
            "max_height": null,
            "max_width": null,
            "min_height": null,
            "min_width": null,
            "object_fit": null,
            "object_position": null,
            "order": null,
            "overflow": null,
            "overflow_x": null,
            "overflow_y": null,
            "padding": null,
            "right": null,
            "top": null,
            "visibility": null,
            "width": null
          }
        },
        "a8ea5e564a3b47ff8b1e064f9e80377b": {
          "model_module": "@jupyter-widgets/controls",
          "model_module_version": "1.5.0",
          "model_name": "HBoxModel",
          "state": {
            "_dom_classes": [],
            "_model_module": "@jupyter-widgets/controls",
            "_model_module_version": "1.5.0",
            "_model_name": "HBoxModel",
            "_view_count": null,
            "_view_module": "@jupyter-widgets/controls",
            "_view_module_version": "1.5.0",
            "_view_name": "HBoxView",
            "box_style": "",
            "children": [
              "IPY_MODEL_b8d918bfc8244d3aa680c0545a5a583c",
              "IPY_MODEL_15f74eebac894be79707920e962f35be",
              "IPY_MODEL_26396dcba07e4771bb32f70630f56e5e"
            ],
            "layout": "IPY_MODEL_b5e706447b6f4efc800f1e1586d8b4a0"
          }
        },
        "a9d1dd4efced48f4acbfef14e21284c4": {
          "model_module": "@jupyter-widgets/controls",
          "model_module_version": "1.5.0",
          "model_name": "DescriptionStyleModel",
          "state": {
            "_model_module": "@jupyter-widgets/controls",
            "_model_module_version": "1.5.0",
            "_model_name": "DescriptionStyleModel",
            "_view_count": null,
            "_view_module": "@jupyter-widgets/base",
            "_view_module_version": "1.2.0",
            "_view_name": "StyleView",
            "description_width": ""
          }
        },
        "b5e706447b6f4efc800f1e1586d8b4a0": {
          "model_module": "@jupyter-widgets/base",
          "model_module_version": "1.2.0",
          "model_name": "LayoutModel",
          "state": {
            "_model_module": "@jupyter-widgets/base",
            "_model_module_version": "1.2.0",
            "_model_name": "LayoutModel",
            "_view_count": null,
            "_view_module": "@jupyter-widgets/base",
            "_view_module_version": "1.2.0",
            "_view_name": "LayoutView",
            "align_content": null,
            "align_items": null,
            "align_self": null,
            "border": null,
            "bottom": null,
            "display": null,
            "flex": null,
            "flex_flow": null,
            "grid_area": null,
            "grid_auto_columns": null,
            "grid_auto_flow": null,
            "grid_auto_rows": null,
            "grid_column": null,
            "grid_gap": null,
            "grid_row": null,
            "grid_template_areas": null,
            "grid_template_columns": null,
            "grid_template_rows": null,
            "height": null,
            "justify_content": null,
            "justify_items": null,
            "left": null,
            "margin": null,
            "max_height": null,
            "max_width": null,
            "min_height": null,
            "min_width": null,
            "object_fit": null,
            "object_position": null,
            "order": null,
            "overflow": null,
            "overflow_x": null,
            "overflow_y": null,
            "padding": null,
            "right": null,
            "top": null,
            "visibility": null,
            "width": null
          }
        },
        "b66c072d6ecf43cca1086b2630d63695": {
          "model_module": "@jupyter-widgets/controls",
          "model_module_version": "1.5.0",
          "model_name": "ProgressStyleModel",
          "state": {
            "_model_module": "@jupyter-widgets/controls",
            "_model_module_version": "1.5.0",
            "_model_name": "ProgressStyleModel",
            "_view_count": null,
            "_view_module": "@jupyter-widgets/base",
            "_view_module_version": "1.2.0",
            "_view_name": "StyleView",
            "bar_color": null,
            "description_width": ""
          }
        },
        "b8d918bfc8244d3aa680c0545a5a583c": {
          "model_module": "@jupyter-widgets/controls",
          "model_module_version": "1.5.0",
          "model_name": "HTMLModel",
          "state": {
            "_dom_classes": [],
            "_model_module": "@jupyter-widgets/controls",
            "_model_module_version": "1.5.0",
            "_model_name": "HTMLModel",
            "_view_count": null,
            "_view_module": "@jupyter-widgets/controls",
            "_view_module_version": "1.5.0",
            "_view_name": "HTMLView",
            "description": "",
            "description_tooltip": null,
            "layout": "IPY_MODEL_efee5ac968bc4b5a991b0424fe733cd8",
            "placeholder": "​",
            "style": "IPY_MODEL_70929e37e1dd45248df458c3ef9be859",
            "value": "Downloading pytorch_model.bin: 100%"
          }
        },
        "e05352eddf924ba8a20bb07f81a47053": {
          "model_module": "@jupyter-widgets/base",
          "model_module_version": "1.2.0",
          "model_name": "LayoutModel",
          "state": {
            "_model_module": "@jupyter-widgets/base",
            "_model_module_version": "1.2.0",
            "_model_name": "LayoutModel",
            "_view_count": null,
            "_view_module": "@jupyter-widgets/base",
            "_view_module_version": "1.2.0",
            "_view_name": "LayoutView",
            "align_content": null,
            "align_items": null,
            "align_self": null,
            "border": null,
            "bottom": null,
            "display": null,
            "flex": null,
            "flex_flow": null,
            "grid_area": null,
            "grid_auto_columns": null,
            "grid_auto_flow": null,
            "grid_auto_rows": null,
            "grid_column": null,
            "grid_gap": null,
            "grid_row": null,
            "grid_template_areas": null,
            "grid_template_columns": null,
            "grid_template_rows": null,
            "height": null,
            "justify_content": null,
            "justify_items": null,
            "left": null,
            "margin": null,
            "max_height": null,
            "max_width": null,
            "min_height": null,
            "min_width": null,
            "object_fit": null,
            "object_position": null,
            "order": null,
            "overflow": null,
            "overflow_x": null,
            "overflow_y": null,
            "padding": null,
            "right": null,
            "top": null,
            "visibility": null,
            "width": null
          }
        },
        "efee5ac968bc4b5a991b0424fe733cd8": {
          "model_module": "@jupyter-widgets/base",
          "model_module_version": "1.2.0",
          "model_name": "LayoutModel",
          "state": {
            "_model_module": "@jupyter-widgets/base",
            "_model_module_version": "1.2.0",
            "_model_name": "LayoutModel",
            "_view_count": null,
            "_view_module": "@jupyter-widgets/base",
            "_view_module_version": "1.2.0",
            "_view_name": "LayoutView",
            "align_content": null,
            "align_items": null,
            "align_self": null,
            "border": null,
            "bottom": null,
            "display": null,
            "flex": null,
            "flex_flow": null,
            "grid_area": null,
            "grid_auto_columns": null,
            "grid_auto_flow": null,
            "grid_auto_rows": null,
            "grid_column": null,
            "grid_gap": null,
            "grid_row": null,
            "grid_template_areas": null,
            "grid_template_columns": null,
            "grid_template_rows": null,
            "height": null,
            "justify_content": null,
            "justify_items": null,
            "left": null,
            "margin": null,
            "max_height": null,
            "max_width": null,
            "min_height": null,
            "min_width": null,
            "object_fit": null,
            "object_position": null,
            "order": null,
            "overflow": null,
            "overflow_x": null,
            "overflow_y": null,
            "padding": null,
            "right": null,
            "top": null,
            "visibility": null,
            "width": null
          }
        },
        "f138359cc0c244dea9c04af9b02c9592": {
          "model_module": "@jupyter-widgets/base",
          "model_module_version": "1.2.0",
          "model_name": "LayoutModel",
          "state": {
            "_model_module": "@jupyter-widgets/base",
            "_model_module_version": "1.2.0",
            "_model_name": "LayoutModel",
            "_view_count": null,
            "_view_module": "@jupyter-widgets/base",
            "_view_module_version": "1.2.0",
            "_view_name": "LayoutView",
            "align_content": null,
            "align_items": null,
            "align_self": null,
            "border": null,
            "bottom": null,
            "display": null,
            "flex": null,
            "flex_flow": null,
            "grid_area": null,
            "grid_auto_columns": null,
            "grid_auto_flow": null,
            "grid_auto_rows": null,
            "grid_column": null,
            "grid_gap": null,
            "grid_row": null,
            "grid_template_areas": null,
            "grid_template_columns": null,
            "grid_template_rows": null,
            "height": null,
            "justify_content": null,
            "justify_items": null,
            "left": null,
            "margin": null,
            "max_height": null,
            "max_width": null,
            "min_height": null,
            "min_width": null,
            "object_fit": null,
            "object_position": null,
            "order": null,
            "overflow": null,
            "overflow_x": null,
            "overflow_y": null,
            "padding": null,
            "right": null,
            "top": null,
            "visibility": null,
            "width": null
          }
        },
        "f6489e83fc0e4be781ac901ba5a0f8c7": {
          "model_module": "@jupyter-widgets/controls",
          "model_module_version": "1.5.0",
          "model_name": "DescriptionStyleModel",
          "state": {
            "_model_module": "@jupyter-widgets/controls",
            "_model_module_version": "1.5.0",
            "_model_name": "DescriptionStyleModel",
            "_view_count": null,
            "_view_module": "@jupyter-widgets/base",
            "_view_module_version": "1.2.0",
            "_view_name": "StyleView",
            "description_width": ""
          }
        }
      }
    }
  },
  "nbformat": 4,
  "nbformat_minor": 0
}
