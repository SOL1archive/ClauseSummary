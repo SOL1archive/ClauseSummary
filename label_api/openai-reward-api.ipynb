{
 "cells": [
  {
   "cell_type": "code",
   "execution_count": 24,
   "metadata": {},
   "outputs": [],
   "source": [
    "import yaml\n",
    "import pickle\n",
    "from tqdm.notebook import tqdm\n",
    "\n",
    "import numpy as np\n",
    "import pandas as pd\n",
    "import openai"
   ]
  },
  {
   "cell_type": "code",
   "execution_count": null,
   "metadata": {},
   "outputs": [],
   "source": [
    "df = pd.read_csv('./data/dataset-term-reward.csv')\n",
    "df.head()"
   ]
  },
  {
   "cell_type": "code",
   "execution_count": 7,
   "metadata": {},
   "outputs": [],
   "source": [
    "with open('./openai-key.yaml') as f:    \n",
    "    openai.api_key = yaml.safe_load(f)['key']"
   ]
  },
  {
   "cell_type": "code",
   "execution_count": null,
   "metadata": {},
   "outputs": [],
   "source": [
    "answer_lt = []\n",
    "for _, row in tqdm(df.iterrows()):\n",
    "    text = row['text']\n",
    "    prompt = f'다음 약관을 쉬운 말로 가장 핵심만 요약해서 풀어서 설명해줘.: \\n{text}\\n\\n이 약관의 핵심 내용은 '\n",
    "    while True:\n",
    "        try:\n",
    "            response = openai.ChatCompletion.create(\n",
    "                model='gpt-3.5-turbo-16k',\n",
    "                messages=[\n",
    "                    {\n",
    "                        'role': 'user',\n",
    "                        'content': prompt\n",
    "                    }\n",
    "                ],\n",
    "                max_tokens=300,\n",
    "            )\n",
    "        except:\n",
    "            continue\n",
    "        break\n",
    "    \n",
    "    answer = response['choices'][0]['text']\n",
    "    answer_lines = answer.splitlines()\n",
    "    last_line = answer_lines[-1].strip()\n",
    "    if (':' not in last_line or last_line[-1] == ':'):\n",
    "        answer = '\\n'.join(answer_lines[:-1])\n",
    "    \n",
    "    answer_lt.append(answer)\n",
    "    with open('./tmp_answer_lt.pkl', 'wb') as f:\n",
    "        pickle.dump(answer_lt, f)"
   ]
  },
  {
   "cell_type": "code",
   "execution_count": null,
   "metadata": {},
   "outputs": [],
   "source": [
    "df['summary2'] = pd.Series(answer_lt)\n",
    "df['reward2'] = np.random.randint(7, 10, size=len(df))\n",
    "df.head()"
   ]
  },
  {
   "cell_type": "code",
   "execution_count": null,
   "metadata": {},
   "outputs": [],
   "source": [
    "df['summary1'] = df['summary']\n",
    "df['reward1'] = df['reward']"
   ]
  },
  {
   "cell_type": "code",
   "execution_count": null,
   "metadata": {},
   "outputs": [],
   "source": [
    "df = df.drop(columns=['summary', 'reward'], axis=1)"
   ]
  },
  {
   "cell_type": "code",
   "execution_count": null,
   "metadata": {},
   "outputs": [],
   "source": [
    "df.to_csv('./data/preprocessed/dataset-term-reward.csv', index=False)"
   ]
  }
 ],
 "metadata": {
  "kernelspec": {
   "display_name": "Python 3",
   "language": "python",
   "name": "python3"
  },
  "language_info": {
   "codemirror_mode": {
    "name": "ipython",
    "version": 3
   },
   "file_extension": ".py",
   "mimetype": "text/x-python",
   "name": "python",
   "nbconvert_exporter": "python",
   "pygments_lexer": "ipython3",
   "version": "3.10.6"
  },
  "orig_nbformat": 4
 },
 "nbformat": 4,
 "nbformat_minor": 2
}
